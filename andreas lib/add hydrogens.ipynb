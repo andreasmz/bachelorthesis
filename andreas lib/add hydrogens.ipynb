{
 "cells": [
  {
   "cell_type": "markdown",
   "metadata": {},
   "source": [
    "## Adding hydrogen to the structures\n",
    "Created 2025-01-07\n",
    "\n",
    "Use this notebook to add hydrogen atoms to structures lacking them"
   ]
  },
  {
   "cell_type": "code",
   "execution_count": 1,
   "metadata": {},
   "outputs": [],
   "source": [
    "import pymol\n",
    "from pathlib import Path\n",
    "import time\n",
    "import logging\n",
    "import sys\n",
    "import datetime"
   ]
  },
  {
   "cell_type": "code",
   "execution_count": 2,
   "metadata": {},
   "outputs": [],
   "source": [
    "logger = logging.getLogger(\"add_hydrogens\")\n",
    "formatter = logging.Formatter(fmt=\"[%(asctime)s | %(module)s | %(levelname)s] %(message)s\")\n",
    "streamHandler = logging.StreamHandler(sys.stdout)\n",
    "streamHandler.setFormatter(formatter)\n",
    "logger.setLevel(logging.INFO)\n",
    "logger.addHandler(streamHandler)"
   ]
  },
  {
   "cell_type": "code",
   "execution_count": 3,
   "metadata": {},
   "outputs": [],
   "source": [
    "def WalkFolder(path: Path) -> list[Path]:\n",
    "    \"\"\"\n",
    "        Given a valid path, this functions iterate over the directory and finds all .pdb files inside of it (not recursively)\n",
    "    \"\"\"\n",
    "    if not isinstance(path, Path):\n",
    "        raise ValueError(f\"The path argument must be a pathlib.Path. You provided {type(path)}\")\n",
    "    if not path.exists() or not path.is_dir():\n",
    "        raise ValueError(f\"The provided path is not a directory\")\n",
    "    \n",
    "    return [p for p in path.iterdir() if p.is_file() and p.suffix.lower() == \".pdb\"]\n",
    "\n",
    "def ProcessPaths(paths: list[Path], exportPath: Path):\n",
    "    \"\"\"\n",
    "        Given a list of paths and and directory for export, this functions saves new pdb files with added hydrogens in the given\n",
    "        export directory.\n",
    "    \"\"\"\n",
    "\n",
    "    if not isinstance(exportPath, Path):\n",
    "        logger.error(f\"The exportPath arguments must be a pathlib.Path. You provided {type(exportPath)}\")\n",
    "        return False\n",
    "    if not exportPath.exists() or not exportPath.is_dir():\n",
    "        logger.error(f\"The provided output path is not a directory\")\n",
    "        return False\n",
    "    \n",
    "    logger.info(f\"Started adding hydrogens to {len(paths)} files\")\n",
    "\n",
    "    t0 = time.perf_counter()\n",
    "    _ti = t0\n",
    "    _ti_n = 0\n",
    "    for i, p in enumerate(paths):\n",
    "        if not isinstance(p, Path) or not p.exists() or not p.is_file():\n",
    "            logger.warning(f\"File {p.name} does not point to a valid file. Skip\")\n",
    "            continue\n",
    "        epath = exportPath / p.name\n",
    "        if epath.exists():\n",
    "            logger.warning(f\"File {p.name} already exists in the output directory. Skip\")\n",
    "        AddHydrogen(p, epath)\n",
    "\n",
    "        _ti_n += 1\n",
    "        if time.perf_counter() - _ti > 5:\n",
    "            _speed = ((time.perf_counter() - _ti)/_ti_n)**-1 if _ti_n > 0 else 0\n",
    "            _speed_avg = ((time.perf_counter() - t0)/i)**-1 if i > 0 else 0\n",
    "            _eta = (len(paths) - i)/_speed_avg\n",
    "            _ti = time.perf_counter()\n",
    "            _ti_n = 0\n",
    "            logger.info(f\"{int(100*i/len(paths))}% - ETA {str(datetime.timedelta(seconds=int(_eta)))} | current speed {round(_speed, 3)} s⁻¹ | average speed {round(_speed_avg, 3)} s⁻¹\")\n",
    "    _speed_avg = ((time.perf_counter() - t0)/len(paths))**-1 if len(paths) > 0 else 0    \n",
    "    logger.info(f\"Finished processing {len(paths)} files in {str(datetime.timedelta(seconds=int(time.perf_counter() - t0)))} | average speed {round(_speed_avg, 3)} s⁻¹\")\n",
    "\n",
    "\n",
    "\n",
    "def AddHydrogen(path: Path, exportPath: Path):\n",
    "    if not isinstance(path, Path) or not isinstance(exportPath, Path):\n",
    "        raise ValueError(f\"The path and exportPath arguments must be a pathlib.Path. You provided {type(path)} and {type(exportPath)}\")\n",
    "    if not path.exists() or not path.is_file():\n",
    "        raise ValueError(f\"The provided path is not a file\")\n",
    "    if not exportPath.parent.exists():\n",
    "        raise ValueError(f\"The provided output path is not a valid file path\")\n",
    "\n",
    "    pymol.cmd.load(path, path.stem)\n",
    "    pymol.cmd.h_add()\n",
    "    pymol.cmd.save(exportPath)\n",
    "    pymol.cmd.delete(path.stem)"
   ]
  },
  {
   "cell_type": "markdown",
   "metadata": {},
   "source": [
    "### Sample code"
   ]
  },
  {
   "cell_type": "code",
   "execution_count": 4,
   "metadata": {},
   "outputs": [
    {
     "name": "stdout",
     "output_type": "stream",
     "text": [
      "Exporting to D:\\Eigene Datein\\Programmieren\\Git\\abrilka\\bachelorthesis\\tmp\n",
      "[2025-01-07 11:37:05,206 | 3664360824 | INFO] Started adding hydrogens to 138 files\n",
      "[2025-01-07 11:37:07,379 | 3664360824 | INFO] Finished processing 138 files in 0:00:02 | average speed 63.512 s⁻¹\n"
     ]
    }
   ],
   "source": [
    "paths = WalkFolder(Path(\"../ressources/ISS DMI_solved_structures\").resolve())\n",
    "exportPath = Path(\"../tmp\").resolve()\n",
    "print(\"Exporting to\", exportPath)\n",
    "\n",
    "ProcessPaths(paths, exportPath)"
   ]
  }
 ],
 "metadata": {
  "kernelspec": {
   "display_name": "bachelor01",
   "language": "python",
   "name": "python3"
  },
  "language_info": {
   "codemirror_mode": {
    "name": "ipython",
    "version": 3
   },
   "file_extension": ".py",
   "mimetype": "text/x-python",
   "name": "python",
   "nbconvert_exporter": "python",
   "pygments_lexer": "ipython3",
   "version": "3.12.3"
  }
 },
 "nbformat": 4,
 "nbformat_minor": 2
}
