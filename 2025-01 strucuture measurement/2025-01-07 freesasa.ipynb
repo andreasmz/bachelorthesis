{
 "cells": [
  {
   "cell_type": "markdown",
   "metadata": {},
   "source": [
    "## Dev Notebook to implement FreeSASA\n",
    "created 2025-01-07"
   ]
  },
  {
   "cell_type": "code",
   "execution_count": 11,
   "metadata": {},
   "outputs": [],
   "source": [
    "import freesasa\n",
    "\n",
    "import measure_PPI\n",
    "import pandas as pd\n",
    "import numpy as np\n",
    "import matplotlib.pyplot as plt\n",
    "from pathlib import Path\n",
    "import time\n",
    "\n",
    "from Bio.PDB.Model import Model\n",
    "from Bio.PDB.Structure import Structure"
   ]
  },
  {
   "cell_type": "code",
   "execution_count": 2,
   "metadata": {},
   "outputs": [],
   "source": [
    "structure_basePath = Path(\"../ressources/ISS AF_DMI_structures\").resolve()\n",
    "structure_folders = [structure_basePath / p for p in ['AF_DMI_structures1', 'AF_DMI_structures2', 'AF_DMI_structures3']]\n",
    "solved_basePath = Path(\"../ressources/ISS DMI_solved_structures\").resolve()\n",
    "solvedHydrogen_basePath = Path(\"../ressources/ISS DMI_solved_structures hydrogens\").resolve()\n",
    "\n",
    "sampleStructure_name = \"LIG_NRP_CendR_1_2ORZ\"\n",
    "sampleStructure_path = structure_folders[1] / sampleStructure_name / \"ranked_0.pdb\"\n",
    "sampleStructure = measure_PPI.OpenStructure(sampleStructure_path, sampleStructure_name)"
   ]
  },
  {
   "cell_type": "code",
   "execution_count": 3,
   "metadata": {},
   "outputs": [],
   "source": [
    "structure_biopy = sampleStructure[0]\n",
    "chains = [c for c in structure_biopy.get_chains()]\n",
    "assert len(chains) == 2\n",
    "\n",
    "chain1 = structure_biopy[0][chains[0].id]\n",
    "chain2 = structure_biopy[0][chains[1].id]"
   ]
  },
  {
   "cell_type": "code",
   "execution_count": 8,
   "metadata": {},
   "outputs": [],
   "source": [
    "ti = time.perf_counter()\n",
    "modelChain1 = Model(\"1\")\n",
    "modelChain1.add(chain1)\n",
    "modelChain2 = Model(\"1\")\n",
    "modelChain2.add(chain2)\n",
    "t1 = time.perf_counter()"
   ]
  },
  {
   "cell_type": "code",
   "execution_count": 10,
   "metadata": {},
   "outputs": [
    {
     "data": {
      "text/plain": [
       "<Structure id=structure>"
      ]
     },
     "execution_count": 10,
     "metadata": {},
     "output_type": "execute_result"
    }
   ],
   "source": [
    "structure_biopy"
   ]
  },
  {
   "cell_type": "code",
   "execution_count": 14,
   "metadata": {},
   "outputs": [
    {
     "name": "stdout",
     "output_type": "stream",
     "text": [
      "7417.025965964869 7380.857494685754 734.775939634081\n",
      "Model build: 2.3 ms\n",
      "Loading: 15.0 ms\n",
      "Calc: 52.5 ms\n",
      "Total: 69.8 ms\n"
     ]
    }
   ],
   "source": [
    "ti = time.perf_counter()\n",
    "strucChain1 = Structure('structure')\n",
    "modelChain1 = Model(\"1\")\n",
    "modelChain1.add(chain1)\n",
    "strucChain1.add(modelChain1)\n",
    "strucChain2 = Structure('structure')\n",
    "modelChain2 = Model(\"1\")\n",
    "modelChain2.add(chain2)\n",
    "strucChain2.add(modelChain2)\n",
    "t1 = time.perf_counter()\n",
    "\n",
    "fs_pp = freesasa.structureFromBioPDB(structure_biopy)\n",
    "fs_chain1 = freesasa.structureFromBioPDB(strucChain1)\n",
    "fs_chain2 = freesasa.structureFromBioPDB(strucChain2)\n",
    "t2 = time.perf_counter()\n",
    "\n",
    "area_pp = freesasa.calc(fs_pp).totalArea()\n",
    "area_chain1 = freesasa.calc(fs_chain1).totalArea()\n",
    "area_chain2 = freesasa.calc(fs_chain2).totalArea()\n",
    "tf = time.perf_counter()\n",
    "\n",
    "print(area_pp, area_chain1, area_chain2)\n",
    "print(f\"Model build: {round(1000*(t1-ti), 1)} ms\")\n",
    "print(f\"Loading: {round(1000*(t2-t1), 1)} ms\")\n",
    "print(f\"Calc: {round(1000*(tf-t2), 1)} ms\")\n",
    "print(f\"Total: {round(1000*(tf-ti), 1)} ms\")"
   ]
  },
  {
   "cell_type": "code",
   "execution_count": null,
   "metadata": {},
   "outputs": [],
   "source": [
    "structure_biopy[0].child_dict"
   ]
  },
  {
   "cell_type": "code",
   "execution_count": null,
   "metadata": {},
   "outputs": [],
   "source": [
    "[a for a in chain1.get_atoms()]"
   ]
  },
  {
   "cell_type": "code",
   "execution_count": null,
   "metadata": {},
   "outputs": [],
   "source": [
    "print(type(sampleStructure[0]), type(sampleStructure[1]))"
   ]
  },
  {
   "cell_type": "code",
   "execution_count": null,
   "metadata": {},
   "outputs": [],
   "source": [
    "fs_structure = freesasa.structureFromBioPDB(chain1)"
   ]
  },
  {
   "cell_type": "code",
   "execution_count": null,
   "metadata": {},
   "outputs": [],
   "source": [
    "result = freesasa.calc(fs_structure)"
   ]
  },
  {
   "cell_type": "code",
   "execution_count": null,
   "metadata": {},
   "outputs": [],
   "source": [
    "result.residueAreas()[\"A\"][\"1\"]"
   ]
  },
  {
   "cell_type": "code",
   "execution_count": null,
   "metadata": {},
   "outputs": [],
   "source": [
    "chain1 = result.residueAreas()[\"A\"]"
   ]
  },
  {
   "cell_type": "code",
   "execution_count": null,
   "metadata": {},
   "outputs": [],
   "source": [
    "result.totalArea()\n",
    "freesasa.selectArea"
   ]
  },
  {
   "cell_type": "code",
   "execution_count": 32,
   "metadata": {},
   "outputs": [],
   "source": []
  },
  {
   "cell_type": "code",
   "execution_count": null,
   "metadata": {},
   "outputs": [],
   "source": [
    "modelChainA = Model(\"1\")\n",
    "modelChainA.add(chain1)"
   ]
  },
  {
   "cell_type": "code",
   "execution_count": null,
   "metadata": {},
   "outputs": [],
   "source": [
    "modelChainA[\"B\"]"
   ]
  }
 ],
 "metadata": {
  "kernelspec": {
   "display_name": "bachelor01",
   "language": "python",
   "name": "python3"
  },
  "language_info": {
   "codemirror_mode": {
    "name": "ipython",
    "version": 3
   },
   "file_extension": ".py",
   "mimetype": "text/x-python",
   "name": "python",
   "nbconvert_exporter": "python",
   "pygments_lexer": "ipython3",
   "version": "3.12.3"
  }
 },
 "nbformat": 4,
 "nbformat_minor": 2
}
