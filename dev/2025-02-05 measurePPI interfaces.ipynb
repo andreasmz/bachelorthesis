{
 "cells": [
  {
   "cell_type": "markdown",
   "metadata": {},
   "source": [
    "# Adding the ability to find interfaces using measurePPI.py\n",
    "2025-02-05"
   ]
  },
  {
   "cell_type": "code",
   "execution_count": 1,
   "metadata": {},
   "outputs": [],
   "source": [
    "import pandas as pd\n",
    "import numpy as np\n",
    "import matplotlib.pyplot as plt\n",
    "from pathlib import Path\n",
    "import sys\n",
    "import numpy as np\n",
    "import time\n",
    "import re\n",
    "from matplotlib.axes._axes import Axes as matplotlib_Axis"
   ]
  },
  {
   "cell_type": "code",
   "execution_count": 2,
   "metadata": {},
   "outputs": [],
   "source": [
    "AF_prediction_path = Path(\"../ressources/AF_predictions\").resolve()\n",
    "AF_prediction_results = Path(\"../ressources/AF_predictions/AF_prediction_randomized_DMI_results.xlsx\").resolve()\n",
    "AF_prediction_metrics = Path(\"../ressources/AF_predictions/AF_metrics_all_structures.tsv\").resolve()\n",
    "AF_DMI_structures_folders = [Path(\"../ressources/AF_DMI_structures\").resolve() / p for p in ['AF_DMI_structures1', 'AF_DMI_structures2', 'AF_DMI_structures3', \"AF_DMI_mutated_structures\"]]\n",
    "AF_DDI_structures_path = Path(\"../ressources/AF_DDI_structures\").resolve()\n",
    "solved_DMI_structures_path = Path(\"../ressources/DMI_solved_structures_hydrogens\").resolve()\n",
    "solved_DDI_structures_path = Path(\"../ressources/DDI_solved_structures_hydrogens\").resolve()\n",
    "\n",
    "for p in [AF_prediction_results, AF_prediction_metrics, AF_DDI_structures_path, solved_DMI_structures_path, solved_DDI_structures_path] + AF_DMI_structures_folders:\n",
    "    if not p.exists():\n",
    "        print(f\"{p} does not point to a valid path\")"
   ]
  },
  {
   "cell_type": "code",
   "execution_count": 4,
   "metadata": {},
   "outputs": [
    {
     "name": "stdout",
     "output_type": "stream",
     "text": [
      "D:\\Eigene Datein\\Programmieren\\Git\\abrilka\\bachelorthesis\\src\n"
     ]
    }
   ],
   "source": [
    "libpath = Path(\"../src\").resolve()\n",
    "print(libpath)\n",
    "sys.path.insert(0, str(libpath))\n",
    "import measure_PPI\n",
    "from measure_PPI import *"
   ]
  },
  {
   "cell_type": "code",
   "execution_count": 5,
   "metadata": {},
   "outputs": [
    {
     "name": "stdout",
     "output_type": "stream",
     "text": [
      "AF {'structure_name': 'LIG_NRP_CendR_1_2ORZ', 'file': 'ranked_0.pdb', 'hbonds': 5, 'salt_bridges': 2, 'buried_area': 698.607, 'min_distance': 6.297, 'hydrophobic_interactions': 0}\n"
     ]
    }
   ],
   "source": [
    "#Loading sample structure\n",
    "sampleStructure_name = \"LIG_NRP_CendR_1_2ORZ\"\n",
    "sampleStructure_path = AF_DMI_structures_folders[1] / sampleStructure_name / \"ranked_0.pdb\"\n",
    "#sampleStructure_name = \"DEG_MDM2_SWIB_1_1YCR\"\n",
    "#sampleStructure_path = structure_folders[0] / sampleStructure_name / \"ranked_1.pdb\"\n",
    "#sampleStructure_name = \"DEG_Kelch_Keap1_1_2FLU\"\n",
    "#sampleStructure_path = structure_folders[0] / sampleStructure_name / \"ranked_4.pdb\"\n",
    "pdb_id = sampleStructure_name.split(\"_\")[-1]\n",
    "\n",
    "structure_biopy, atomarray_biotite = OpenStructure(sampleStructure_path, sampleStructure_name)\n",
    "print(\"AF\", EvaluateStructure(sampleStructure_path, sampleStructure_name))"
   ]
  },
  {
   "cell_type": "code",
   "execution_count": 9,
   "metadata": {},
   "outputs": [],
   "source": [
    "from sklearn.metrics import pairwise_distances\n",
    "from Bio.PDB.Atom import Atom as BioPy_Atom\n",
    "\n",
    "class ProteinStructureWarning(Exception):\n",
    "    def __init__(self, message):            \n",
    "        super().__init__(message)\n",
    "\n",
    "def get_distance_matrix(structure_biopy:BioPy_PDBStructure) -> tuple[np.ndarray, list[BioPy_Atom], list[BioPy_Atom]]:\n",
    "    stopwatch = Stopwatch().Start()\n",
    "    chains = [c for c in structure_biopy.get_chains()]\n",
    "    if not len(chains) == 2: raise ProteinStructureWarning(f\"The protein needs to have 2 chains but it has {len(chains)}\")\n",
    "    chain1 = structure_biopy[0][chains[0].id]\n",
    "    chain2 = structure_biopy[0][chains[1].id]\n",
    "    \n",
    "\n",
    "    chain1_atoms = np.array([a for a in chain1.get_atoms()])\n",
    "    chain2_atoms = np.array([a for a in chain2.get_atoms()])\n",
    "    chain1_coords = [a.coord for a in chain1_atoms]\n",
    "    chain2_coords = [a.coord for a in chain2_atoms]\n",
    "    stopwatch.Lap(\"Parsing the chains and atom arrays\")\n",
    "\n",
    "    distance_matrix = pairwise_distances(chain1_coords,chain2_coords)\n",
    "    stopwatch.Lap(\"Distance Matrix\")\n",
    "\n",
    "    return (distance_matrix, chain1_atoms, chain2_atoms)\n",
    "\n",
    "def get_interface(distance_matrix: np.ndarray, chain1_atoms: list[BioPy_Atom], chain2_atoms: list[BioPy_Atom], cutoff=5.0):\n",
    "    pair_dist = np.argwhere(distance_matrix <= cutoff) # List of matrix indices where distance is below cutoff\n",
    "    intf1_atoms = set(chain1_atoms[pair_dist[:, 0]]) # Set of the chain1 atoms with an atom from chain2 closer than cutoff distance\n",
    "    intf2_atoms = set(chain2_atoms[pair_dist[:, 1]])\n",
    "\n",
    "    # List of backbone atoms in the interface\n",
    "    intf1_backbone = [a for a in intf1_atoms if a.name == \"CA\" and a in intf1_atoms]\n",
    "    intf2_backbone = [a for a in intf2_atoms if a.name == \"CA\" and a in intf2_atoms]\n",
    "\n",
    "    intf1_residues = [a.parent for a in intf1_backbone]\n",
    "    intf2_residues = [a.parent for a in intf2_backbone]\n",
    "\n",
    "    # A list for each chain combined to a tuple with the indices of the interface residues. Example : ([23, 445, 470], [26]) \n",
    "    backbone_indices_tuple = ([i for i,a in enumerate(chain1_atoms) if a in intf1_backbone], [i for i,a in enumerate(chain2_atoms) if a in intf2_backbone]) \n",
    "\n",
    "    # The distance matrix sliced to only the interface backbone atoms. So shape is (len(intf1_backbone), len(intf2_backbone))\n",
    "    local_dist_matrix = distance_matrix[backbone_indices_tuple[0], :][:, backbone_indices_tuple[1]]\n",
    "\n",
    "    min_distance = round(np.min(local_dist_matrix), 3)\n",
    "\n",
    "    return (intf1_residues, intf2_residues, min_distance)\n"
   ]
  },
  {
   "cell_type": "code",
   "execution_count": null,
   "metadata": {},
   "outputs": [],
   "source": [
    "def EvaluateStructure(path: pathlib.Path, structure_name: str = \"\") -> tuple[dict|None, measure_PPI.Stopwatch] :\n",
    "    \"\"\"\n",
    "        Measures the pdb file given by path\n",
    "    \"\"\"\n",
    "    stopwatch = Stopwatch().Start()\n",
    "    file_name = path.name\n",
    "    structure_biopy, atomarray_biotite = OpenStructure(path, structure_name)\n",
    "    stopwatch.Lap(\"Loading structure\")\n",
    "    if structure_biopy is None or atomarray_biotite is None: return (None, stopwatch.Stop())\n",
    "\n",
    "    buried_area = calculate_buried_area(structure_biopy) if measure_PPI._freesasa_ready else calculate_buried_area_biotite(atomarray_biotite)\n",
    "    hbonds = calculate_hbonds(atomarray_biotite)\n",
    "    min_distance = calculate_min_distance(atomarray_biotite)\n",
    "    salt_bridges = calculate_saltbridges(structure_biopy)\n",
    "    hydrophobic_interactions = calculate_hydrophobic_interactions(structure_biopy)\n",
    "\n",
    "    return ({\n",
    "        'structure_name': structure_name,\n",
    "        'file': file_name,\n",
    "        'hbonds': hbonds,\n",
    "        'salt_bridges': salt_bridges,\n",
    "        'buried_area': buried_area,\n",
    "        'min_distance': min_distance,\n",
    "        'hydrophobic_interactions': hydrophobic_interactions\n",
    "    }, stopwatch.Stop())\n",
    "\n",
    "result, stopwatch = EvaluateStructure(sampleStructure_path, sampleStructure_name)\n",
    "\n",
    "print(stopwatch.times)\n",
    "\n",
    "\n",
    "\n",
    "for k,v in Stopwatch.Evaluate([stopwatch]).items():\n",
    "    logger.debug(f\"Average time for {k}: {round(1000*(v[0]), 3)} ms (n = {v[1]})\")"
   ]
  },
  {
   "cell_type": "code",
   "execution_count": 10,
   "metadata": {},
   "outputs": [],
   "source": [
    "distance_matrix, chain1_atoms, chain2_atoms = get_distance_matrix(structure_biopy)\n",
    "intf1_residues, intf2_residues, min_distance = get_interface(distance_matrix, chain1_atoms, chain2_atoms)"
   ]
  },
  {
   "cell_type": "code",
   "execution_count": 23,
   "metadata": {},
   "outputs": [
    {
     "data": {
      "text/plain": [
       "[<Residue ILE het=  resseq=127 icode= >,\n",
       " <Residue GLY het=  resseq=126 icode= >,\n",
       " <Residue GLY het=  resseq=30 icode= >,\n",
       " <Residue SER het=  resseq=58 icode= >,\n",
       " <Residue GLU het=  resseq=31 icode= >,\n",
       " <Residue THR het=  resseq=28 icode= >,\n",
       " <Residue PRO het=  resseq=29 icode= >,\n",
       " <Residue ASP het=  resseq=32 icode= >,\n",
       " <Residue TYR het=  resseq=9 icode= >]"
      ]
     },
     "execution_count": 23,
     "metadata": {},
     "output_type": "execute_result"
    }
   ],
   "source": [
    "intf1_residues"
   ]
  },
  {
   "cell_type": "code",
   "execution_count": 24,
   "metadata": {},
   "outputs": [
    {
     "data": {
      "image/png": "[encoded data removed]",
      "text/plain": [
       "<Figure size 640x480 with 1 Axes>"
      ]
     },
     "metadata": {},
     "output_type": "display_data"
    }
   ],
   "source": [
    "plt.imshow(distance_matrix <= 5, aspect=\"auto\")\n",
    "plt.ylabel(\"Chain A atoms\")\n",
    "plt.xlabel(\"Chain B atoms\")\n",
    "plt.show()"
   ]
  },
  {
   "cell_type": "code",
   "execution_count": 25,
   "metadata": {},
   "outputs": [
    {
     "data": {
      "text/plain": [
       "[<Residue ILE het=  resseq=127 icode= >,\n",
       " <Residue GLY het=  resseq=126 icode= >,\n",
       " <Residue GLY het=  resseq=30 icode= >,\n",
       " <Residue SER het=  resseq=58 icode= >,\n",
       " <Residue GLU het=  resseq=31 icode= >,\n",
       " <Residue THR het=  resseq=28 icode= >,\n",
       " <Residue PRO het=  resseq=29 icode= >,\n",
       " <Residue ASP het=  resseq=32 icode= >,\n",
       " <Residue TYR het=  resseq=9 icode= >]"
      ]
     },
     "execution_count": 25,
     "metadata": {},
     "output_type": "execute_result"
    }
   ],
   "source": [
    "intf1_residues"
   ]
  },
  {
   "cell_type": "code",
   "execution_count": 37,
   "metadata": {},
   "outputs": [
    {
     "data": {
      "text/plain": [
       "(2163, 77)"
      ]
     },
     "execution_count": 37,
     "metadata": {},
     "output_type": "execute_result"
    }
   ],
   "source": [
    "distance_matrix.shape"
   ]
  },
  {
   "cell_type": "code",
   "execution_count": 30,
   "metadata": {},
   "outputs": [
    {
     "data": {
      "text/plain": [
       "array([[ 118,   71],\n",
       "       [ 120,   69],\n",
       "       [ 120,   70],\n",
       "       [ 120,   71],\n",
       "       [ 122,   71],\n",
       "       [ 125,   32],\n",
       "       [ 125,   71],\n",
       "       [ 126,   32],\n",
       "       [ 126,   71],\n",
       "       [ 127,   59],\n",
       "       [ 128,   59],\n",
       "       [ 129,   26],\n",
       "       [ 129,   32],\n",
       "       [ 130,   23],\n",
       "       [ 130,   26],\n",
       "       [ 130,   28],\n",
       "       [ 130,   29],\n",
       "       [ 130,   32],\n",
       "       [ 131,   23],\n",
       "       [ 131,   24],\n",
       "       [ 132,   24],\n",
       "       [ 190,   76],\n",
       "       [ 430,   66],\n",
       "       [ 430,   69],\n",
       "       [ 430,   75],\n",
       "       [ 431,   69],\n",
       "       [ 431,   70],\n",
       "       [ 431,   72],\n",
       "       [ 431,   74],\n",
       "       [ 431,   75],\n",
       "       [ 432,   64],\n",
       "       [ 432,   66],\n",
       "       [ 432,   67],\n",
       "       [ 432,   68],\n",
       "       [ 432,   75],\n",
       "       [ 433,   66],\n",
       "       [ 433,   69],\n",
       "       [ 433,   70],\n",
       "       [ 433,   71],\n",
       "       [ 433,   75],\n",
       "       [ 439,   70],\n",
       "       [ 443,   69],\n",
       "       [ 443,   70],\n",
       "       [ 443,   74],\n",
       "       [ 446,   74],\n",
       "       [ 455,   35],\n",
       "       [ 456,   31],\n",
       "       [ 456,   32],\n",
       "       [ 456,   33],\n",
       "       [ 456,   34],\n",
       "       [ 456,   35],\n",
       "       [ 460,   33],\n",
       "       [ 481,   73],\n",
       "       [ 482,   72],\n",
       "       [ 482,   73],\n",
       "       [ 482,   74],\n",
       "       [ 483,   73],\n",
       "       [ 890,   76],\n",
       "       [ 891,   56],\n",
       "       [ 891,   76],\n",
       "       [ 939,   76],\n",
       "       [ 942,   76],\n",
       "       [ 978,   45],\n",
       "       [ 983,   44],\n",
       "       [ 983,   45],\n",
       "       [ 984,   47],\n",
       "       [ 985,   44],\n",
       "       [ 985,   45],\n",
       "       [ 985,   47],\n",
       "       [ 986,   44],\n",
       "       [ 986,   47],\n",
       "       [1027,   55],\n",
       "       [1028,   45],\n",
       "       [1028,   55],\n",
       "       [1029,   62],\n",
       "       [2013,   73]], dtype=int64)"
      ]
     },
     "execution_count": 30,
     "metadata": {},
     "output_type": "execute_result"
    }
   ],
   "source": [
    "np.argwhere(distance_matrix <= 3)"
   ]
  },
  {
   "cell_type": "code",
   "execution_count": 44,
   "metadata": {},
   "outputs": [
    {
     "data": {
      "text/plain": [
       "[(<Atom CB>, <Atom HH12>, 2.7150626),\n",
       " (<Atom HB3>, <Atom NH1>, 2.5802896),\n",
       " (<Atom HB3>, <Atom HH11>, 2.374427),\n",
       " (<Atom HB3>, <Atom HH12>, 2.1572723),\n",
       " (<Atom CG>, <Atom HH12>, 2.4285915),\n",
       " (<Atom CD2>, <Atom HE2>, 2.63707),\n",
       " (<Atom CD2>, <Atom HH12>, 2.6689527),\n",
       " (<Atom HD2>, <Atom HE2>, 2.081972),\n",
       " (<Atom HD2>, <Atom HH12>, 2.9333842),\n",
       " (<Atom CE1>, <Atom HB3>, 2.7225664),\n",
       " (<Atom HE1>, <Atom HB3>, 2.443064),\n",
       " (<Atom CE2>, <Atom HG2>, 2.8370283),\n",
       " (<Atom CE2>, <Atom HE2>, 2.8769948),\n",
       " (<Atom HE2>, <Atom HB3>, 2.853706),\n",
       " (<Atom HE2>, <Atom HG2>, 2.8262477),\n",
       " (<Atom HE2>, <Atom CD>, 2.76727),\n",
       " (<Atom HE2>, <Atom HD2>, 2.0818708),\n",
       " (<Atom HE2>, <Atom HE2>, 2.615802),\n",
       " (<Atom OH>, <Atom HB3>, 2.7045188),\n",
       " (<Atom OH>, <Atom O>, 2.8733425),\n",
       " (<Atom HH>, <Atom O>, 2.7103426),\n",
       " (<Atom HZ2>, <Atom OXT>, 2.6373847),\n",
       " (<Atom CG2>, <Atom HD3>, 2.7948043),\n",
       " (<Atom CG2>, <Atom NH1>, 2.9972963),\n",
       " (<Atom CG2>, <Atom CZ>, 2.9063158),\n",
       " (<Atom HG21>, <Atom NH1>, 2.998008),\n",
       " (<Atom HG21>, <Atom HH11>, 2.9837549),\n",
       " (<Atom HG21>, <Atom NH2>, 2.7548263),\n",
       " (<Atom HG21>, <Atom HH22>, 2.9012299),\n",
       " (<Atom HG21>, <Atom CZ>, 2.735874),\n",
       " (<Atom HG22>, <Atom CD>, 2.7769473),\n",
       " (<Atom HG22>, <Atom HD3>, 2.1270716),\n",
       " (<Atom HG22>, <Atom NE>, 2.5900111),\n",
       " (<Atom HG22>, <Atom HE>, 2.8482223),\n",
       " (<Atom HG22>, <Atom CZ>, 2.8000216),\n",
       " (<Atom HG23>, <Atom HD3>, 2.6035905),\n",
       " (<Atom HG23>, <Atom NH1>, 2.4124796),\n",
       " (<Atom HG23>, <Atom HH11>, 2.5778651),\n",
       " (<Atom HG23>, <Atom HH12>, 2.3140986),\n",
       " (<Atom HG23>, <Atom CZ>, 2.7823572),\n",
       " (<Atom C>, <Atom HH11>, 2.9570982),\n",
       " (<Atom O>, <Atom NH1>, 2.7116213),\n",
       " (<Atom O>, <Atom HH11>, 1.7236778),\n",
       " (<Atom O>, <Atom HH22>, 2.8078115),\n",
       " (<Atom HG3>, <Atom HH22>, 2.8958116),\n",
       " (<Atom C>, <Atom HZ1>, 2.8874843),\n",
       " (<Atom O>, <Atom CE>, 2.6908178),\n",
       " (<Atom O>, <Atom HE2>, 2.6327577),\n",
       " (<Atom O>, <Atom HE3>, 2.400469),\n",
       " (<Atom O>, <Atom NZ>, 2.6148293),\n",
       " (<Atom O>, <Atom HZ1>, 1.8164437),\n",
       " (<Atom HA>, <Atom HE3>, 2.8057084),\n",
       " (<Atom CG>, <Atom HH21>, 2.5327246),\n",
       " (<Atom OD1>, <Atom NH2>, 2.6876643),\n",
       " (<Atom OD1>, <Atom HH21>, 1.8426174),\n",
       " (<Atom OD1>, <Atom HH22>, 2.8476768),\n",
       " (<Atom OD2>, <Atom HH21>, 2.7466006),\n",
       " (<Atom OG>, <Atom OXT>, 2.6587586),\n",
       " (<Atom HG>, <Atom C>, 2.97312),\n",
       " (<Atom HG>, <Atom OXT>, 1.7301265),\n",
       " (<Atom HG22>, <Atom OXT>, 2.9324844),\n",
       " (<Atom HG1>, <Atom OXT>, 2.8529298),\n",
       " (<Atom HD2>, <Atom O>, 2.73158),\n",
       " (<Atom NZ>, <Atom HB3>, 2.9980786),\n",
       " (<Atom NZ>, <Atom O>, 2.9812677),\n",
       " (<Atom HZ1>, <Atom HG2>, 2.9977813),\n",
       " (<Atom HZ2>, <Atom HB3>, 2.360821),\n",
       " (<Atom HZ2>, <Atom O>, 2.0027692),\n",
       " (<Atom HZ2>, <Atom HG2>, 2.9829795),\n",
       " (<Atom HZ3>, <Atom HB3>, 2.761874),\n",
       " (<Atom HZ3>, <Atom HG2>, 2.633532),\n",
       " (<Atom OH>, <Atom HA>, 2.5692122),\n",
       " (<Atom HH>, <Atom O>, 2.74909),\n",
       " (<Atom HH>, <Atom HA>, 2.7420535),\n",
       " (<Atom CZ>, <Atom HG2>, 2.9935575),\n",
       " (<Atom H>, <Atom HH21>, 2.816561)]"
      ]
     },
     "execution_count": 44,
     "metadata": {},
     "output_type": "execute_result"
    }
   ],
   "source": [
    "pair_dist = np.argwhere(distance_matrix <= 3)\n",
    "atom_pairs: list[tuple[BioPy_Atom, BioPy_Atom, float]] = [(chain1_atoms[ind[0]], chain2_atoms[ind[1]], distance_matrix[ind[0], ind[1]]) for ind in pair_dist]\n",
    "atom_pairs"
   ]
  },
  {
   "cell_type": "code",
   "execution_count": 40,
   "metadata": {},
   "outputs": [
    {
     "data": {
      "text/plain": [
       "Bio.PDB.Atom.Atom"
      ]
     },
     "execution_count": 40,
     "metadata": {},
     "output_type": "execute_result"
    }
   ],
   "source": [
    "type(atom_pairs[0][0])"
   ]
  },
  {
   "cell_type": "code",
   "execution_count": 45,
   "metadata": {},
   "outputs": [
    {
     "data": {
      "text/plain": [
       "[<Residue ILE het=  resseq=127 icode= >,\n",
       " <Residue GLY het=  resseq=126 icode= >,\n",
       " <Residue GLY het=  resseq=30 icode= >,\n",
       " <Residue SER het=  resseq=58 icode= >,\n",
       " <Residue GLU het=  resseq=31 icode= >,\n",
       " <Residue THR het=  resseq=28 icode= >,\n",
       " <Residue PRO het=  resseq=29 icode= >,\n",
       " <Residue ASP het=  resseq=32 icode= >,\n",
       " <Residue TYR het=  resseq=9 icode= >]"
      ]
     },
     "execution_count": 45,
     "metadata": {},
     "output_type": "execute_result"
    }
   ],
   "source": [
    "intf1_residues"
   ]
  },
  {
   "cell_type": "code",
   "execution_count": 47,
   "metadata": {},
   "outputs": [
    {
     "data": {
      "text/plain": [
       "{<Residue LYS het=  resseq=2 icode= >,\n",
       " <Residue PRO het=  resseq=3 icode= >,\n",
       " <Residue ARG het=  resseq=4 icode= >}"
      ]
     },
     "execution_count": 47,
     "metadata": {},
     "output_type": "execute_result"
    }
   ],
   "source": [
    "set([a2.parent for a1, a2, d  in atom_pairs])"
   ]
  },
  {
   "cell_type": "code",
   "execution_count": null,
   "metadata": {},
   "outputs": [],
   "source": [
    "# Vector definition\n",
    "# 0-5: amino acid properties\n",
    "# 0: pK(R) acid constant of residue group or 7 if no residues\n",
    "\n",
    "def atom_pairs_to_vector(atom1: BioPy_Atom, atom2: BioPy_Atom, distance: float) -> np.array:\n",
    "    vector = np.full(shape=(10), fill_value=None)\n",
    "\n",
    "    "
   ]
  }
 ],
 "metadata": {
  "kernelspec": {
   "display_name": "bachelor01",
   "language": "python",
   "name": "python3"
  },
  "language_info": {
   "codemirror_mode": {
    "name": "ipython",
    "version": 3
   },
   "file_extension": ".py",
   "mimetype": "text/x-python",
   "name": "python",
   "nbconvert_exporter": "python",
   "pygments_lexer": "ipython3",
   "version": "3.12.3"
  }
 },
 "nbformat": 4,
 "nbformat_minor": 2
}
