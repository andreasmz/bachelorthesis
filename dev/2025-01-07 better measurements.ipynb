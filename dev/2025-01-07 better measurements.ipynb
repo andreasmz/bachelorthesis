{
 "cells": [
  {
   "cell_type": "markdown",
   "metadata": {},
   "source": [
    "## Improvements of measure_PPI.py\n",
    "Create 2025-01-07"
   ]
  },
  {
   "cell_type": "code",
   "execution_count": 1,
   "metadata": {},
   "outputs": [],
   "source": [
    "import pandas as pd\n",
    "import numpy as np\n",
    "import matplotlib.pyplot as plt\n",
    "from pathlib import Path\n",
    "import sys\n",
    "import time"
   ]
  },
  {
   "cell_type": "code",
   "execution_count": 2,
   "metadata": {},
   "outputs": [
    {
     "name": "stdout",
     "output_type": "stream",
     "text": [
      "D:\\Eigene Datein\\Programmieren\\Git\\abrilka\\bachelorthesis\\andreas lib\n"
     ]
    }
   ],
   "source": [
    "libpath = Path(\"../andreas lib\").resolve()\n",
    "print(libpath)\n",
    "sys.path.insert(0, str(libpath))\n",
    "import measure_PPI"
   ]
  },
  {
   "cell_type": "code",
   "execution_count": 3,
   "metadata": {},
   "outputs": [],
   "source": [
    "structure_basePath = Path(\"../ressources/ISS AF_DMI_structures\").resolve()\n",
    "structure_folders = [structure_basePath / p for p in ['AF_DMI_structures1', 'AF_DMI_structures2', 'AF_DMI_structures3']]\n",
    "solved_basePath = Path(\"../ressources/ISS DMI_solved_structures\").resolve()\n",
    "solvedHydrogen_basePath = Path(\"../ressources/ISS DMI_solved_structures hydrogens\").resolve()"
   ]
  },
  {
   "cell_type": "code",
   "execution_count": 4,
   "metadata": {},
   "outputs": [
    {
     "name": "stdout",
     "output_type": "stream",
     "text": [
      "[2025-01-07 14:41:41,572 | measure_PPI | DEBUG] Runtime reading structure LIG_NRP_CendR_1_2ORZ (file ranked_0.pdb): 26.8ms\n",
      "[2025-01-07 14:41:41,594 | measure_PPI | DEBUG] Runtime reading structure LIG_NRP_CendR_1_2ORZ (file ranked_0.pdb): 21.3ms\n",
      "[2025-01-07 14:41:41,672 | measure_PPI | DEBUG] Sasa values: Chain 1 = 7380.857, Chain 2 = 734.776, Total = 7417.026\n",
      "[2025-01-07 14:41:41,673 | measure_PPI | DEBUG] Runtime calculate_buried_area: 78.2ms (2.0ms model buiilding, 20.7ms loading, 55.5ms sasa calc)\n",
      "[2025-01-07 14:41:41,774 | measure_PPI | DEBUG] Runtime calculate_hbonds: 100.5ms (0.4ms generating chains, 97.6ms bond list, 2.5ms hbonds)\n",
      "[2025-01-07 14:41:41,784 | measure_PPI | DEBUG] Runtime calculate_min_distance: 9.8ms (0.7ms generating chains, 9.1ms calculating distance)\n",
      "[2025-01-07 14:41:41,786 | measure_PPI | DEBUG] Runtime calculate_saltbridges: 0.8ms\n",
      "[2025-01-07 14:41:41,791 | measure_PPI | DEBUG] Runtime calculate_hydrophobic_interactions: 5.2ms\n",
      "[2025-01-07 14:41:41,791 | measure_PPI | LOWINFO] parsed LIG_NRP_CendR_1_2ORZ (file ranked_0.pdb) in 0.219s\n"
     ]
    },
    {
     "data": {
      "text/plain": [
       "{'structure_name': 'LIG_NRP_CendR_1_2ORZ',\n",
       " 'file': 'ranked_0.pdb',\n",
       " 'hbonds': 5,\n",
       " 'salt_bridges': 2,\n",
       " 'buried_area': 698.607,\n",
       " 'min_distance': 6.297,\n",
       " 'hydrophobic_interactions': 0}"
      ]
     },
     "execution_count": 4,
     "metadata": {},
     "output_type": "execute_result"
    }
   ],
   "source": [
    "#Loading sample structure\n",
    "sampleStructure_name = \"LIG_NRP_CendR_1_2ORZ\"\n",
    "sampleStructure_path = structure_folders[1] / sampleStructure_name / \"ranked_0.pdb\"\n",
    "#sampleStructure_name = \"DEG_MDM2_SWIB_1_1YCR\"\n",
    "#sampleStructure_path = structure_folders[0] / sampleStructure_name / \"ranked_1.pdb\"\n",
    "measure_PPI.logger.setLevel(measure_PPI.logging.DEBUG)\n",
    "structure_biopy, atomarray_biotite = measure_PPI.OpenStructure(sampleStructure_path, sampleStructure_name)\n",
    "measure_PPI.EvaluateStructure(sampleStructure_path, sampleStructure_name)"
   ]
  },
  {
   "cell_type": "markdown",
   "metadata": {},
   "source": [
    "Dev code"
   ]
  },
  {
   "cell_type": "code",
   "execution_count": 18,
   "metadata": {},
   "outputs": [],
   "source": [
    "import biotite.structure as struc\n",
    "import biotite.structure.io.pdb as bt_pdb\n",
    "from Bio.PDB import PDBParser\n",
    "from Bio.PDB.Structure import Structure as BioPy_PDBStructure\n",
    "from Bio.PDB.Model import Model as BioPy_PDBModel\n",
    "from Bio.PDB.PDBExceptions import PDBConstructionException\n",
    "import math"
   ]
  },
  {
   "cell_type": "code",
   "execution_count": null,
   "metadata": {},
   "outputs": [],
   "source": [
    "cutoff=5.0\n",
    "\n",
    "# If True, the algorithm will not return NaN if only the backbone is above cutoff but some atoms of the\n",
    "# residues are below cutoff distance\n",
    "atom_cutoff = False \n",
    "\n",
    "ti = time.perf_counter()\n",
    "chains = struc.get_chains(atomarray_biotite)\n",
    "assert len(chains) == 2\n",
    "\n",
    "chain1 = atomarray_biotite[atomarray_biotite.chain_id == chains[0]]\n",
    "chain2 = atomarray_biotite[atomarray_biotite.chain_id == chains[1]]\n",
    "t1 = time.perf_counter()\n",
    "\n",
    "# For atom_cutoff = True the previous behaviour\n",
    "# To reduce computational cost, reversed the order from first filtering that at least one atom of a residue has a\n",
    "# atom of the opposite chain below cutoff distance and then filtering for CA. \n",
    "# \n",
    "\n",
    "chain1_backbone = chain1[chain1.atom_name == \"CA\"]\n",
    "chain2_backbone = chain2[chain2.atom_name == \"CA\"]\n",
    "min_distance = float(\"inf\")\n",
    "\n",
    "for ca1 in chain1_backbone:\n",
    "    for ca2 in chain2_backbone:\n",
    "        # Syntactic sugar: Use := operator to calculate dist only one\n",
    "        if (dist := struc.distance(ca1, ca2)) < cutoff:\n",
    "            print(f\"Min s distance for {ca1.res_id} and {ca2.res_id} is {round(float(dist), 3)}\")\n",
    "            min_distance = min(min_distance, dist)\n",
    "            continue\n",
    "        elif dist <= 2*cutoff and atom_cutoff: \n",
    "            # To save computational cost, use also a cutoff value for backbone estimated to be twice the usual cutoff\n",
    "            for a1 in chain1[chain1.res_id == ca1.res_id]:\n",
    "                for a2 in chain2[chain2.res_id == ca2.res_id]:\n",
    "                    if struc.distance(a1, a2) <= cutoff:\n",
    "                        break\n",
    "                else: # Runs after look finished normally\n",
    "                    continue\n",
    "                break # This only runs if there is a break in the inner loop because of previous continue statement\n",
    "            else:\n",
    "                break\n",
    "                # Only calculate min_distance if there is the atom wise distance of the residues is below cutoff\n",
    "            print(f\"Min distance for {ca1.res_id} and {ca2.res_id} is {round(float(dist), 3)}\")\n",
    "            min_distance = min(min_distance, dist)\n",
    "tf = time.perf_counter()\n",
    "print(f\"{(round(1000*(tf-ti), 1))} ms\")\n",
    "print(min_distance)"
   ]
  },
  {
   "cell_type": "code",
   "execution_count": null,
   "metadata": {},
   "outputs": [],
   "source": [
    "cutoff=5.0 \n",
    "\n",
    "# If True, the algorithm will not return NaN if only the backbone is above cutoff but some atoms of the\n",
    "# residues are below cutoff distance\n",
    "atom_cutoff = False \n",
    "\n",
    "ti = time.perf_counter()\n",
    "chains = struc.get_chains(atomarray_biotite)\n",
    "assert len(chains) == 2\n",
    "\n",
    "chain1 = atomarray_biotite[atomarray_biotite.chain_id == chains[0]]\n",
    "chain2 = atomarray_biotite[atomarray_biotite.chain_id == chains[1]]\n",
    "t1 = time.perf_counter()\n",
    "\n",
    "# To reduce computational cost, removed constrained to interface atoms only as this does not affect the result.\n",
    "# The previous code used for this first pymol selection algebra with the command 'within' which filters\n",
    "# by cutoff distance atom wise before filtering for CA atoms. Now the code filters first for CA and then for\n",
    "# cutoff distance --> less atoms to compare.\n",
    "\n",
    "chain1_backbone = chain1[chain1.atom_name == \"CA\"]\n",
    "chain2_backbone = chain2[chain2.atom_name == \"CA\"]\n",
    "min_distance = float(\"inf\")\n",
    "for a1 in chain1_backbone:\n",
    "    for a2 in chain2_backbone:\n",
    "        min_distance = min(min_distance, struc.distance(a1, a2))\n",
    "tf = time.perf_counter()\n",
    "print(f\"{(round(1000*(tf-ti), 1))} ms\")\n",
    "print(min_distance)"
   ]
  },
  {
   "cell_type": "code",
   "execution_count": null,
   "metadata": {},
   "outputs": [],
   "source": [
    "chain1_atoms = chain1[chain1.res_id in chain1_interface_atoms]\n",
    "print(chain1_atoms)"
   ]
  },
  {
   "cell_type": "code",
   "execution_count": null,
   "metadata": {},
   "outputs": [],
   "source": [
    "measure_PPI.calculate_min_distance(atomarray_biotite, max_cutoff=200)"
   ]
  },
  {
   "cell_type": "code",
   "execution_count": null,
   "metadata": {},
   "outputs": [],
   "source": [
    "cutoff = 5.0\n",
    "max_cutoff = 10\n",
    "\n",
    "ti = time.perf_counter()\n",
    "chains = struc.get_chains(atomarray_biotite)\n",
    "assert len(chains) == 2\n",
    "\n",
    "chain1 = atomarray_biotite[atomarray_biotite.chain_id == chains[0]]\n",
    "chain2 = atomarray_biotite[atomarray_biotite.chain_id == chains[1]]\n",
    "\n",
    "chain1_backbone = chain1[chain1.atom_name == \"CA\"]\n",
    "chain2_backbone = chain2[chain2.atom_name == \"CA\"]\n",
    "\n",
    "min_distance = float(\"inf\")\n",
    "t1 = time.perf_counter()\n",
    "\n",
    "# max_cutoff is implemented to mimic the same behaviour as the ISS code which used pymol.\n",
    "\n",
    "for ca1 in chain1_backbone:\n",
    "    for ca2 in chain2_backbone:\n",
    "        if (dist := struc.distance(ca1, ca2)) < cutoff:\n",
    "            min_distance = min(min_distance, dist)\n",
    "            continue\n",
    "        elif dist <= max_cutoff and dist < min_distance: # If max_cutoff is set, check the individual atoms\n",
    "            for a1 in chain1[chain1.res_id == ca1.res_id]:\n",
    "                for a2 in chain2[chain2.res_id == ca2.res_id]:\n",
    "                    if struc.distance(a1, a2) <= cutoff:\n",
    "                        break\n",
    "                else: # Runs after loop finished normally\n",
    "                    continue\n",
    "                break # This only runs if there is a break in the inner loop because of previous continue statement\n",
    "            else:\n",
    "                # Only calculate min_distance if there is the atom wise distance of the residues is below cutoff\n",
    "                continue\n",
    "            min_distance = min(min_distance, dist)\n",
    "\n",
    "tf = time.perf_counter()\n",
    "\n",
    "d = round(min_distance, 3) if math.isfinite(min_distance) else float('NaN')\n",
    "print(d)"
   ]
  }
 ],
 "metadata": {
  "kernelspec": {
   "display_name": "bachelor01",
   "language": "python",
   "name": "python3"
  },
  "language_info": {
   "codemirror_mode": {
    "name": "ipython",
    "version": 3
   },
   "file_extension": ".py",
   "mimetype": "text/x-python",
   "name": "python",
   "nbconvert_exporter": "python",
   "pygments_lexer": "ipython3",
   "version": "3.12.3"
  }
 },
 "nbformat": 4,
 "nbformat_minor": 2
}
