{
 "cells": [
  {
   "cell_type": "markdown",
   "id": "4295c89a",
   "metadata": {},
   "source": [
    "# Metrics algorithm comparison\n",
    "Created 2025-04-27\n",
    "\n",
    "Just a small notebook to reproduce some of the evaluations done very early in the thesis projet. For example it was found, that SASA calculating libaries very much differ in their result."
   ]
  },
  {
   "cell_type": "code",
   "execution_count": 6,
   "id": "0f095e4e",
   "metadata": {},
   "outputs": [],
   "source": [
    "# Imports\n",
    "import numpy as np\n",
    "import pandas as pd\n",
    "import matplotlib.pyplot as plt\n",
    "from pathlib import Path\n",
    "import seaborn as sns\n",
    "import itertools\n",
    "import time\n",
    "\n",
    "import matplotlib as mpl\n",
    "from matplotlib.axes._axes import Axes\n",
    "from matplotlib.figure import Figure\n",
    "\n",
    "from sklearn.metrics import roc_curve\n",
    "from sklearn.metrics import roc_auc_score\n",
    "import scipy\n",
    "import sys\n",
    "\n",
    "class bcolors:\n",
    "    HEADER = '\\033[95m'\n",
    "    OKBLUE = '\\033[94m'\n",
    "    OKCYAN = '\\033[96m'\n",
    "    OKGREEN = '\\033[92m'\n",
    "    WARNING = '\\033[93m'\n",
    "    FAIL = '\\033[91m'\n",
    "    ENDC = '\\033[0m'\n",
    "    BOLD = '\\033[1m'\n",
    "    UNDERLINE = '\\033[4m'\n",
    "\n",
    "# Settings\n",
    "\n",
    "# Path to resource folder with the structures and metadata tables\n",
    "path_resources = Path(r\"D:\\Eigene Datein\\dev\\Uni\\JGU Bio Bachelorthesis\\Daten\\resources\")\n",
    "\n",
    "path_AF2 = path_resources / \"AF2\"\n",
    "path_AF3 = path_resources / \"AF3\"\n",
    "path_solved = path_resources / \"solved\""
   ]
  },
  {
   "cell_type": "code",
   "execution_count": 2,
   "id": "57a0b79c",
   "metadata": {},
   "outputs": [
    {
     "name": "stdout",
     "output_type": "stream",
     "text": [
      "D:\\Eigene Datein\\Programmieren\\Git\\abrilka\\bachelorthesis\\src\n"
     ]
    }
   ],
   "source": [
    "libpath = Path(\"../src\").resolve()\n",
    "print(libpath)\n",
    "sys.path.insert(0, str(libpath))\n",
    "import measure_PPI"
   ]
  },
  {
   "cell_type": "code",
   "execution_count": 9,
   "id": "5c046197",
   "metadata": {},
   "outputs": [],
   "source": [
    "# Example structure\n",
    "structure_name = \"DEG_APCC_KENBOX_2_4GGD\"\n",
    "structure_path = path_AF2 / \"DMI\" / \"known_DMI\" / structure_name / \"ranked_0.pdb\"\n",
    "structure_biopy, atomarray_biotite = measure_PPI.OpenStructure(path_AF2 / \"DMI\" / \"known_DMI\" / structure_name / \"ranked_0.pdb\", structure_name)"
   ]
  },
  {
   "cell_type": "markdown",
   "id": "064d2c42",
   "metadata": {},
   "source": [
    "### 1 SASA"
   ]
  },
  {
   "cell_type": "code",
   "execution_count": null,
   "id": "e1ead15f",
   "metadata": {},
   "outputs": [
    {
     "ename": "NameError",
     "evalue": "name 'dataset_measure' is not defined",
     "output_type": "error",
     "traceback": [
      "\u001b[1;31m---------------------------------------------------------------------------\u001b[0m",
      "\u001b[1;31mNameError\u001b[0m                                 Traceback (most recent call last)",
      "Cell \u001b[1;32mIn[10], line 59\u001b[0m\n\u001b[0;32m     46\u001b[0m     \u001b[38;5;28mprint\u001b[39m(\u001b[38;5;124mf\u001b[39m\u001b[38;5;124m\"\u001b[39m\u001b[38;5;124mTotal: \u001b[39m\u001b[38;5;132;01m{\u001b[39;00m\u001b[38;5;28mround\u001b[39m((_timeb6\u001b[38;5;250m \u001b[39m\u001b[38;5;241m-\u001b[39m\u001b[38;5;250m \u001b[39m_startTime),\u001b[38;5;250m \u001b[39m\u001b[38;5;241m3\u001b[39m)\u001b[38;5;132;01m}\u001b[39;00m\u001b[38;5;124m s\u001b[39m\u001b[38;5;124m\"\u001b[39m)\n\u001b[0;32m     48\u001b[0m     \u001b[38;5;28;01mreturn\u001b[39;00m {\n\u001b[0;32m     49\u001b[0m         \u001b[38;5;124m'\u001b[39m\u001b[38;5;124mstructure_name\u001b[39m\u001b[38;5;124m'\u001b[39m: structure_name,\n\u001b[0;32m     50\u001b[0m         \u001b[38;5;124m'\u001b[39m\u001b[38;5;124mfile\u001b[39m\u001b[38;5;124m'\u001b[39m: file_name,\n\u001b[1;32m   (...)\u001b[0m\n\u001b[0;32m     56\u001b[0m         \u001b[38;5;124m'\u001b[39m\u001b[38;5;124mhydrophobic_interactions\u001b[39m\u001b[38;5;124m'\u001b[39m: hydrophobic_interactions\n\u001b[0;32m     57\u001b[0m     }\n\u001b[1;32m---> 59\u001b[0m EvaluateStructure_Benchmark(structure_path, structure_name)\n",
      "Cell \u001b[1;32mIn[10], line 8\u001b[0m, in \u001b[0;36mEvaluateStructure_Benchmark\u001b[1;34m(path, structure_name)\u001b[0m\n\u001b[0;32m      5\u001b[0m _startTime \u001b[38;5;241m=\u001b[39m time\u001b[38;5;241m.\u001b[39mtime()\n\u001b[0;32m      7\u001b[0m file_name \u001b[38;5;241m=\u001b[39m path\u001b[38;5;241m.\u001b[39mname\n\u001b[1;32m----> 8\u001b[0m structure, structure_biotite \u001b[38;5;241m=\u001b[39m dataset_measure\u001b[38;5;241m.\u001b[39mOpenStructure(path, structure_name)\n\u001b[0;32m      9\u001b[0m _timea1 \u001b[38;5;241m=\u001b[39m time\u001b[38;5;241m.\u001b[39mtime()\n\u001b[0;32m     10\u001b[0m \u001b[38;5;28;01mif\u001b[39;00m structure \u001b[38;5;129;01mis\u001b[39;00m \u001b[38;5;28;01mNone\u001b[39;00m \u001b[38;5;129;01mor\u001b[39;00m structure_biotite \u001b[38;5;129;01mis\u001b[39;00m \u001b[38;5;28;01mNone\u001b[39;00m: \u001b[38;5;28;01mreturn\u001b[39;00m \u001b[38;5;28;01mNone\u001b[39;00m\n",
      "\u001b[1;31mNameError\u001b[0m: name 'dataset_measure' is not defined"
     ]
    }
   ],
   "source": [
    "def EvaluateStructure_Benchmark(path: Path, structure_name: str = \"\") -> dict|None:\n",
    "    \n",
    "    residue_sasa_values = calculate_sasa_at_atom_level(str(sampleStructure_path), n_points=100, probe_radius=1.4)\n",
    "    df[\"RustSASA\"] = residue_sasa_values\n",
    "    t1 = time.time()\n",
    "\n",
    "    sasa12 = sasa(sampleStructure[1][0], ignore_ions=False, probe_radius=1.4, point_number=100)\n",
    "    df[\"Biotite SASA\"] = sasa12\n",
    "    t2 = time.time()\n",
    "\n",
    "    sasaSR = ShrakeRupley(probe_radius=1.4, n_points=100)\n",
    "    sasaSR.compute(sampleStructure[0], level=\"A\")\n",
    "    df[\"Biopandas SASA\"] = [a.sasa for a in sampleStructure[0].get_atoms()]\n",
    "    t3 = time.time()\n",
    "\n",
    "\n",
    "EvaluateStructure_Benchmark(structure_path, structure_name)\n",
    "\n",
    "# AF DOC_MAPK_RevD_3_3TEI\n",
    "# \n",
    "# Opening Structure: 55.0 ms\n",
    "# Buried surface Area: 2097.0 ms\n",
    "# H Bonds: 32.0 ms\n",
    "# Min. Interface Distance: 5.0 ms\n",
    "# Salt bridges: 4.0 ms\n",
    "# Hydrophobic interactions: 81.0 ms\n",
    "# Total: 2.423 s"
   ]
  }
 ],
 "metadata": {
  "kernelspec": {
   "display_name": "bachelor01",
   "language": "python",
   "name": "python3"
  },
  "language_info": {
   "codemirror_mode": {
    "name": "ipython",
    "version": 3
   },
   "file_extension": ".py",
   "mimetype": "text/x-python",
   "name": "python",
   "nbconvert_exporter": "python",
   "pygments_lexer": "ipython3",
   "version": "3.12.3"
  }
 },
 "nbformat": 4,
 "nbformat_minor": 5
}
