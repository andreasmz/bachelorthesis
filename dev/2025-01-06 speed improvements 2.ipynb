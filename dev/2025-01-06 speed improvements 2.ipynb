{
 "cells": [
  {
   "cell_type": "markdown",
   "metadata": {},
   "source": [
    "## Speed improvents of Code II\n",
    "Created 2025-01-05 by Andreas"
   ]
  },
  {
   "cell_type": "code",
   "execution_count": 1,
   "metadata": {},
   "outputs": [
    {
     "name": "stdout",
     "output_type": "stream",
     "text": [
      "[2025-01-06 17:28:36,100 | measure_PPI | INFO] Loaded measure_PPI libary\n"
     ]
    }
   ],
   "source": [
    "import measure_PPI\n",
    "import pathlib\n",
    "import time\n",
    "import pandas as pd\n",
    "import numpy as np\n",
    "import biotite.structure as struc\n",
    "\n",
    "measure_PPI.logger.setLevel(measure_PPI.logging.DEBUG)"
   ]
  },
  {
   "cell_type": "markdown",
   "metadata": {},
   "source": [
    "Opening sample structure"
   ]
  },
  {
   "cell_type": "code",
   "execution_count": 2,
   "metadata": {},
   "outputs": [],
   "source": [
    "structure_basePath = pathlib.Path(\"../ressources/ISS AF_DMI_structures\").resolve()\n",
    "structure_folders = [structure_basePath / p for p in ['AF_DMI_structures1', 'AF_DMI_structures2', 'AF_DMI_structures3']]\n",
    "solved_basePath = pathlib.Path(\"../ressources/ISS DMI_solved_structures\").resolve()\n",
    "solvedHydrogen_basePath = pathlib.Path(\"../ressources/ISS DMI_solved_structures hydrogens\").resolve()"
   ]
  },
  {
   "cell_type": "code",
   "execution_count": 3,
   "metadata": {},
   "outputs": [
    {
     "name": "stdout",
     "output_type": "stream",
     "text": [
      "[2025-01-06 17:28:38,734 | measure_PPI | DEBUG] Runtime reading structure  (file ranked_0.pdb): 53.9ms\n"
     ]
    }
   ],
   "source": [
    "#Loading sample structure\n",
    "sampleStructure_name = \"LIG_NRP_CendR_1_2ORZ\"\n",
    "sampleStructure_path = structure_folders[1] / sampleStructure_name / \"ranked_0.pdb\"\n",
    "sampleStructure = measure_PPI.OpenStructure(sampleStructure_path)"
   ]
  },
  {
   "cell_type": "code",
   "execution_count": 4,
   "metadata": {},
   "outputs": [
    {
     "name": "stdout",
     "output_type": "stream",
     "text": [
      "[2025-01-06 17:28:40,675 | measure_PPI | INFO] Started Taskpool of 1 processes.\n",
      "{'structure_name': 'LIG_NRP_CendR_1_2ORZ', 'file': 'ranked_0.pdb', 'hbonds': array([ 983,  985, 2208]), 'salt_bridges': 2, 'buried_area': np.float32(697.554), 'min_distance': np.float32(6.297), 'hydrophobic_interactions': 0}\n"
     ]
    },
    {
     "data": {
      "text/html": [
       "<div>\n",
       "<style scoped>\n",
       "    .dataframe tbody tr th:only-of-type {\n",
       "        vertical-align: middle;\n",
       "    }\n",
       "\n",
       "    .dataframe tbody tr th {\n",
       "        vertical-align: top;\n",
       "    }\n",
       "\n",
       "    .dataframe thead th {\n",
       "        text-align: right;\n",
       "    }\n",
       "</style>\n",
       "<table border=\"1\" class=\"dataframe\">\n",
       "  <thead>\n",
       "    <tr style=\"text-align: right;\">\n",
       "      <th></th>\n",
       "      <th>structure_name</th>\n",
       "      <th>file</th>\n",
       "      <th>hbonds</th>\n",
       "      <th>salt_bridges</th>\n",
       "      <th>buried_area</th>\n",
       "      <th>min_distance</th>\n",
       "      <th>hydrophobic_interactions</th>\n",
       "    </tr>\n",
       "  </thead>\n",
       "  <tbody>\n",
       "    <tr>\n",
       "      <th>0</th>\n",
       "      <td>LIG_NRP_CendR_1_2ORZ</td>\n",
       "      <td>ranked_0.pdb</td>\n",
       "      <td>[983, 985, 2208]</td>\n",
       "      <td>2</td>\n",
       "      <td>697.554016</td>\n",
       "      <td>6.297</td>\n",
       "      <td>0</td>\n",
       "    </tr>\n",
       "  </tbody>\n",
       "</table>\n",
       "</div>"
      ],
      "text/plain": [
       "         structure_name          file            hbonds  salt_bridges  \\\n",
       "0  LIG_NRP_CendR_1_2ORZ  ranked_0.pdb  [983, 985, 2208]             2   \n",
       "\n",
       "   buried_area  min_distance  hydrophobic_interactions  \n",
       "0   697.554016         6.297                         0  "
      ]
     },
     "execution_count": 4,
     "metadata": {},
     "output_type": "execute_result"
    }
   ],
   "source": [
    "pathObj = [(sampleStructure_path, sampleStructure_name)]\n",
    "measure_PPI.Run(pathObj, num_threads=1)"
   ]
  },
  {
   "cell_type": "code",
   "execution_count": null,
   "metadata": {},
   "outputs": [],
   "source": [
    "# Test Evaluation\n",
    "measure_PPI.EvaluateStructure(sampleStructure_path, sampleStructure_name)"
   ]
  },
  {
   "cell_type": "code",
   "execution_count": null,
   "metadata": {},
   "outputs": [],
   "source": [
    "dataset_measure2.calculate_buried_area(sampleStructure[1])"
   ]
  },
  {
   "cell_type": "code",
   "execution_count": null,
   "metadata": {},
   "outputs": [],
   "source": [
    "sampleStructure_name = \"DOC_MAPK_RevD_3_3TEI\"\n",
    "sampleStructure_name = \"LIG_NRP_CendR_1_2ORZ\"\n",
    "sampleStructure_path = structure_folders[1] / sampleStructure_name / \"ranked_0.pdb\"\n",
    "sampleStructure = dataset_measure2.OpenStructure(sampleStructure_path)\n",
    "print(type(sampleStructure[0]), type(sampleStructure[1]))\n",
    "\n",
    "atom_array = sampleStructure[1][0]\n",
    "chains = struc.get_chains(atom_array)\n",
    "assert len(chains) == 2\n",
    "chain1 = atom_array[atom_array.chain_id == chains[0]]\n",
    "chain2 = atom_array[atom_array.chain_id == chains[1]]\n",
    "print(\"Chain\", chains[0],\":\",len(chain1))\n",
    "print(\"Chain\", chains[1],\":\",len(chain2))\n",
    "\n",
    "print(sampleStructure[1])"
   ]
  },
  {
   "cell_type": "code",
   "execution_count": null,
   "metadata": {},
   "outputs": [],
   "source": [
    "import math\n",
    "def calculate_buried_area(atomarray_biotite:struc.AtomArray, probe_radius:float=1.4):\n",
    "    \"\"\"\n",
    "        Calculates the buried surface area using biotite which is defined as surface area of the two chains\n",
    "        subtracted from the surface area of the complex.\n",
    "    \"\"\"\n",
    "    logger = dataset_measure2.logger\n",
    "    ti = time.perf_counter()\n",
    "    chains = struc.get_chains(atomarray_biotite)\n",
    "    assert len(chains) == 2\n",
    "\n",
    "    chain1 = atomarray_biotite[atomarray_biotite.chain_id == chains[0]]\n",
    "    chain2 = atomarray_biotite[atomarray_biotite.chain_id == chains[1]]\n",
    "    t1 = time.perf_counter()\n",
    "\n",
    "    sasa12 = np.sum([s for s in struc.sasa(atomarray_biotite, probe_radius=probe_radius) if math.isfinite(s)])\n",
    "    sasa1 = np.sum([s for s in struc.sasa(chain1, probe_radius=probe_radius) if math.isfinite(s)])\n",
    "    sasa2 = np.sum([s for s in struc.sasa(chain2, probe_radius=probe_radius) if math.isfinite(s)])\n",
    "    print(sasa12, sasa1, sasa2)\n",
    "    buried_area = (sasa1 + sasa2 - sasa12)\n",
    "    tf = time.perf_counter()\n",
    "    logger.debug(f\"Runtime calculate_buried_area: {round((tf-ti)*1000, 1)}ms ({round((t1-ti)*1000, 1)}ms generating chains, {round((tf-ti)*1000, 1)}ms sasa)\")\n",
    "    return round(buried_area, 3)\n",
    "\n",
    "calculate_buried_area(sampleStructure[1])"
   ]
  },
  {
   "cell_type": "code",
   "execution_count": null,
   "metadata": {},
   "outputs": [],
   "source": [
    "t0 = time.perf_counter()\n",
    "import math\n",
    "atomarray_biotite = sampleStructure[1]\n",
    "chains = struc.get_chains(atomarray_biotite)\n",
    "chain1 = atomarray_biotite[atomarray_biotite.chain_id == chains[0]]\n",
    "chain2 = atomarray_biotite[atomarray_biotite.chain_id == chains[1]]\n",
    "probe_radius = 1.4\n",
    "sasa12 = sum([s for s in struc.sasa(atomarray_biotite, probe_radius=probe_radius) if math.isfinite(s)])\n",
    "sasa1 = sum([s for s in struc.sasa(chain1, probe_radius=probe_radius) if math.isfinite(s)])\n",
    "sasa2 = sum([s for s in struc.sasa(chain2, probe_radius=probe_radius) if math.isfinite(s)])\n",
    "t1 = time.perf_counter()\n",
    "print(t1-t0)"
   ]
  },
  {
   "cell_type": "code",
   "execution_count": null,
   "metadata": {},
   "outputs": [],
   "source": [
    "t0 = time.perf_counter()\n",
    "struc.sasa(atomarray_biotite, probe_radius=probe_radius, vdw_radii=\"Single\")\n",
    "t1 = time.perf_counter()\n",
    "print(t1-t0)"
   ]
  },
  {
   "cell_type": "code",
   "execution_count": null,
   "metadata": {},
   "outputs": [],
   "source": [
    "from rust_sasa_python import *\n",
    "print(sampleStructure_path)\n",
    "t0 = time.perf_counter()\n",
    "sasas = calculate_sasa_at_protein_level(str(sampleStructure_path))\n",
    "df = time.perf_counter() - t0\n",
    "print(df)\n",
    "print(sasas)\n",
    "\n",
    "sasaR = calculate_sasa_at_atom_level(str(sampleStructure_path))\n",
    "sasa = sum(sasaR)\n",
    "print(sasa)\n",
    "\n",
    "sasaR = calculate_sasa_at_residue_level(str(sampleStructure_path))\n",
    "sasa = sum([x[1] for x in sasaR])\n",
    "print(sasa)"
   ]
  },
  {
   "cell_type": "code",
   "execution_count": null,
   "metadata": {},
   "outputs": [],
   "source": [
    "from Bio.PDB import ShrakeRupley\n",
    "sasa = ShrakeRupley()\n",
    "chains = [c for c in sampleStructure[0].get_chains()]\n",
    "ti = time.perf_counter()\n",
    "sasa.compute(sampleStructure[0], level=\"A\")\n",
    "total_area = sum(atom.sasa for atom in sampleStructure[0].get_atoms())\n",
    "t1 = time.perf_counter()\n",
    "\n",
    "# Calculate buried area for each chain separately\n",
    "chain1 = sampleStructure[0][0][chains[0].id]\n",
    "chain2 = sampleStructure[0][0][chains[1].id]\n",
    "\n",
    "sasa.compute(chain1, level=\"A\")\n",
    "area_ch1 = sum(atom.sasa for atom in chain1.get_atoms())\n",
    "\n",
    "sasa.compute(chain2, level=\"A\")\n",
    "area_ch2 = sum(atom.sasa for atom in chain2.get_atoms())\n",
    "\n",
    "print(area_ch1, area_ch2, total_area)\n",
    "tf = time.perf_counter()\n",
    "print(tf - ti, t1-ti)"
   ]
  }
 ],
 "metadata": {
  "kernelspec": {
   "display_name": "bachelor01",
   "language": "python",
   "name": "python3"
  },
  "language_info": {
   "codemirror_mode": {
    "name": "ipython",
    "version": 3
   },
   "file_extension": ".py",
   "mimetype": "text/x-python",
   "name": "python",
   "nbconvert_exporter": "python",
   "pygments_lexer": "ipython3",
   "version": "3.12.7"
  }
 },
 "nbformat": 4,
 "nbformat_minor": 2
}
