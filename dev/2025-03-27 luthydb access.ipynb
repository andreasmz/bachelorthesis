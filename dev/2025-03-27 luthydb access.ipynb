{
 "cells": [
  {
   "cell_type": "markdown",
   "metadata": {},
   "source": [
    "# Accessing the luthydb (for helping Mareen)\n",
    "2025-03-27"
   ]
  },
  {
   "cell_type": "code",
   "execution_count": 1,
   "metadata": {},
   "outputs": [],
   "source": [
    "import mysql.connector"
   ]
  },
  {
   "cell_type": "code",
   "execution_count": 3,
   "metadata": {},
   "outputs": [],
   "source": [
    "mydb = mysql.connector.connect(\n",
    "  host=\"luck.imb.uni-mainz.de\",\n",
    "  user=input(\"MYSQL Username\"),\n",
    "  password=input(\"MYSQL Password\")\n",
    ")"
   ]
  },
  {
   "cell_type": "code",
   "execution_count": null,
   "metadata": {},
   "outputs": [],
   "source": []
  },
  {
   "cell_type": "code",
   "execution_count": 3,
   "metadata": {},
   "outputs": [
    {
     "name": "stdout",
     "output_type": "stream",
     "text": [
      "('TABLE_CATALOG', 'TABLE_SCHEMA', 'TABLE_NAME', 'TABLE_TYPE', 'ENGINE', 'VERSION', 'ROW_FORMAT', 'TABLE_ROWS', 'AVG_ROW_LENGTH', 'DATA_LENGTH', 'MAX_DATA_LENGTH', 'INDEX_LENGTH', 'DATA_FREE', 'AUTO_INCREMENT', 'CREATE_TIME', 'UPDATE_TIME', 'CHECK_TIME', 'TABLE_COLLATION', 'CHECKSUM', 'CREATE_OPTIONS', 'TABLE_COMMENT', 'MAX_INDEX_LENGTH', 'TEMPORARY')\n",
      "('def', 'luthy_data', 'cLuC_ratios', 'BASE TABLE', 'MyISAM', 10, 'Dynamic', 20, 120, 2408, 281474976710655, 7168, 0, None, datetime.datetime(2021, 5, 28, 7, 16, 50), datetime.datetime(2025, 1, 7, 15, 5, 15), datetime.datetime(2025, 1, 7, 15, 5, 15), 'latin1_swedish_ci', None, '', '', 288230376151710720, 'N')\n",
      "('def', 'luthy_data', 'project_descr', 'BASE TABLE', 'MyISAM', 10, 'Dynamic', 170, 148, 25272, 281474976710655, 4096, 0, None, datetime.datetime(2021, 10, 18, 13, 46, 3), datetime.datetime(2025, 3, 27, 14, 52, 45), datetime.datetime(2025, 3, 22, 11, 14, 55), 'latin1_swedish_ci', None, '', '', 288230376151710720, 'N')\n",
      "('def', 'luthy_data', 'LU_raw', 'BASE TABLE', 'MyISAM', 10, 'Fixed', 116942, 212, 24791704, 59672695062659071, 2712576, 0, None, datetime.datetime(2022, 11, 8, 15, 17, 18), datetime.datetime(2025, 3, 27, 14, 52, 45), datetime.datetime(2025, 3, 22, 11, 14, 56), 'latin1_swedish_ci', None, '', '', 1125899906841600, 'N')\n",
      "('def', 'luthy_data', 'project_info', 'BASE TABLE', 'MyISAM', 11, 'Dynamic', 1206, 110, 133536, 281474976710655, 21504, 72, None, datetime.datetime(2022, 6, 8, 9, 18, 44), datetime.datetime(2025, 3, 27, 14, 52, 45), datetime.datetime(2025, 3, 22, 11, 14, 56), 'latin1_swedish_ci', None, '', '', 288230376151710720, 'N')\n",
      "('def', 'luthy_data', 'titration_values', 'BASE TABLE', 'InnoDB', 10, 'Dynamic', 4716, 93, 442368, 0, 0, 4194304, None, datetime.datetime(2025, 1, 13, 10, 26, 32), None, None, 'utf8mb4_general_ci', None, '', '', 0, 'N')\n",
      "('def', 'luthy_data', 'cBRET_ratios', 'BASE TABLE', 'MyISAM', 10, 'Dynamic', 2144, 121, 260304, 281474976710655, 108544, 0, None, datetime.datetime(2021, 5, 28, 7, 15, 54), datetime.datetime(2025, 1, 27, 10, 7, 30), datetime.datetime(2025, 1, 7, 15, 5, 15), 'latin1_swedish_ci', None, '', '', 288230376151710720, 'N')\n",
      "('def', 'luthy_data', 'FL_raw', 'BASE TABLE', 'MyISAM', 10, 'Fixed', 223409, 216, 48256344, 60798594969501695, 5422080, 0, None, datetime.datetime(2022, 11, 8, 14, 44, 44), datetime.datetime(2025, 3, 27, 14, 52, 45), datetime.datetime(2025, 3, 22, 11, 14, 56), 'latin1_swedish_ci', None, '', '', 1125899906841600, 'N')\n",
      "('def', 'luthy_data', 'avg_replicates', 'BASE TABLE', 'MyISAM', 10, 'Dynamic', 34800, 113, 3942664, 281474976710655, 1478656, 0, None, datetime.datetime(2021, 5, 28, 7, 14, 40), datetime.datetime(2025, 3, 17, 15, 20, 31), datetime.datetime(2025, 1, 7, 15, 5, 15), 'latin1_swedish_ci', None, '', '', 288230376151710720, 'N')\n",
      "('def', 'luthy_data', 'LuC_ratios', 'BASE TABLE', 'MyISAM', 10, 'Dynamic', 330, 110, 36576, 281474976710655, 25600, 0, None, datetime.datetime(2021, 5, 28, 7, 17, 8), datetime.datetime(2025, 1, 7, 15, 5, 15), datetime.datetime(2025, 1, 7, 15, 5, 15), 'latin1_swedish_ci', None, '', '', 288230376151710720, 'N')\n",
      "('def', 'luthy_data', 'titration_fit', 'BASE TABLE', 'MyISAM', 10, 'Dynamic', 809, 47, 38820, 281474976710655, 12288, 0, None, datetime.datetime(2025, 1, 13, 10, 26, 29), datetime.datetime(2025, 1, 17, 11, 50, 32), None, 'latin1_swedish_ci', None, '', '', 288230376151710720, 'N')\n",
      "('def', 'luthy_data', 'FL_avg_points', 'BASE TABLE', 'MyISAM', 10, 'Fixed', 56661, 216, 12238776, 60798594969501695, 1138688, 0, None, datetime.datetime(2022, 11, 8, 15, 13, 41), datetime.datetime(2025, 3, 17, 15, 20, 12), datetime.datetime(2025, 1, 7, 15, 5, 13), 'latin1_swedish_ci', None, '', '', 1125899906841600, 'N')\n",
      "('def', 'luthy_data', 'BRET_ratios', 'BASE TABLE', 'MyISAM', 10, 'Dynamic', 8866, 122, 1086408, 281474976710655, 486400, 64, None, datetime.datetime(2021, 5, 28, 7, 15, 33), datetime.datetime(2025, 3, 27, 14, 52, 45), datetime.datetime(2025, 1, 7, 15, 5, 13), 'latin1_swedish_ci', None, '', '', 288230376151710720, 'N')\n",
      "('def', 'luthy_data', 'plate_layout', 'BASE TABLE', 'MyISAM', 10, 'Dynamic', 29383, 133, 3919348, 281474976710655, 436224, 424, None, datetime.datetime(2025, 1, 13, 10, 32, 20), datetime.datetime(2025, 3, 27, 14, 52, 45), datetime.datetime(2025, 3, 22, 11, 14, 56), 'latin1_swedish_ci', None, '', '', 288230376151710720, 'N')\n"
     ]
    },
    {
     "data": {
      "text/plain": [
       "True"
      ]
     },
     "execution_count": 3,
     "metadata": {},
     "output_type": "execute_result"
    }
   ],
   "source": [
    "mycursor = mydb.cursor()\n",
    "mycursor.execute(\"SELECT * FROM information_schema.tables WHERE TABLE_SCHEMA = 'luthy_data';\")\n",
    "myresult = mycursor.fetchall()\n",
    "print(mycursor.column_names)\n",
    "for x in myresult:\n",
    "  print(x)\n",
    "\n",
    "mycursor.close()"
   ]
  },
  {
   "cell_type": "code",
   "execution_count": 4,
   "metadata": {},
   "outputs": [
    {
     "name": "stdout",
     "output_type": "stream",
     "text": [
      "('project_id', 'acc_measurement_id', 'don_measurement_id', 'project_nr', 'repeat_nr', 'NL_plasmid', 'mCit_plasmid', 'NL_property', 'mCit_property', 'avg_cBRET_ratio', 'std_cBRET_ratio', 'NL_plasmid_id', 'mCit_plasmid_id')\n"
     ]
    },
    {
     "data": {
      "text/plain": [
       "True"
      ]
     },
     "execution_count": 4,
     "metadata": {},
     "output_type": "execute_result"
    }
   ],
   "source": [
    "\n",
    "mycursor = mydb.cursor()\n",
    "\n",
    "mycursor.execute(\"SELECT * FROM luthy_data.cBRET_ratios WHERE project_id = 'Lu185r01' ORDER BY project_id ASC\")\n",
    "\n",
    "myresult = mycursor.fetchall()\n",
    "print(mycursor.column_names)\n",
    "for x in myresult:\n",
    "  print(x)\n",
    "\n",
    "mycursor.close()"
   ]
  },
  {
   "cell_type": "code",
   "execution_count": 4,
   "metadata": {},
   "outputs": [
    {
     "name": "stdout",
     "output_type": "stream",
     "text": [
      "('Field', 'Type', 'Null', 'Key', 'Default', 'Extra')\n",
      "project_id, acc_measurement_id, don_measurement_id, NL_property, mCit_property, NL_plasmid_id, mCit_plasmid_id, "
     ]
    },
    {
     "data": {
      "text/plain": [
       "True"
      ]
     },
     "execution_count": 4,
     "metadata": {},
     "output_type": "execute_result"
    }
   ],
   "source": [
    "sql = \"\"\"\n",
    "SHOW COLUMNS FROM luthy_data.BRET_ratios;\n",
    "\"\"\"\n",
    "\n",
    "mycursor = mydb.cursor()\n",
    "mycursor.execute(sql)\n",
    "myresult = mycursor.fetchall()\n",
    "print(mycursor.column_names)\n",
    "for x in myresult:\n",
    "  if x[3] == \"PRI\":\n",
    "    print(x[0], end=\", \")\n",
    "\n",
    "mycursor.close()"
   ]
  }
 ],
 "metadata": {
  "kernelspec": {
   "display_name": "base",
   "language": "python",
   "name": "python3"
  },
  "language_info": {
   "codemirror_mode": {
    "name": "ipython",
    "version": 3
   },
   "file_extension": ".py",
   "mimetype": "text/x-python",
   "name": "python",
   "nbconvert_exporter": "python",
   "pygments_lexer": "ipython3",
   "version": "3.12.7"
  }
 },
 "nbformat": 4,
 "nbformat_minor": 2
}
