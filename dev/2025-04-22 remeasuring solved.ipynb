{
 "cells": [
  {
   "cell_type": "markdown",
   "id": "8ccd87f5",
   "metadata": {},
   "source": [
    "# Recreating metrics for solved structures"
   ]
  },
  {
   "cell_type": "code",
   "execution_count": null,
   "id": "3988ae1a",
   "metadata": {},
   "outputs": [],
   "source": []
  },
  {
   "cell_type": "code",
   "execution_count": null,
   "id": "16efc2c2",
   "metadata": {},
   "outputs": [
    {
     "data": {
      "application/vnd.microsoft.datawrangler.viewer.v0+json": {
       "columns": [
        {
         "name": "index",
         "rawType": "int64",
         "type": "integer"
        },
        {
         "name": "set",
         "rawType": "object",
         "type": "string"
        },
        {
         "name": "PDB_id",
         "rawType": "object",
         "type": "string"
        },
        {
         "name": "DDI_pfam_id",
         "rawType": "object",
         "type": "unknown"
        },
        {
         "name": "path",
         "rawType": "object",
         "type": "unknown"
        },
        {
         "name": "chainA_id",
         "rawType": "object",
         "type": "string"
        },
        {
         "name": "chainB_id",
         "rawType": "object",
         "type": "string"
        }
       ],
       "conversionMethod": "pd.DataFrame",
       "ref": "cd97bc28-4794-456d-90ec-a5226f9d492f",
       "rows": [
        [
         "0",
         "DMI",
         "1ATP",
         null,
         "DMI\\1ATP_min_DMI.pdb",
         "A",
         "B"
        ],
        [
         "1",
         "DMI",
         "1AXC",
         null,
         "DMI\\1AXC_min_DMI.pdb",
         "A",
         "B"
        ],
        [
         "2",
         "DMI",
         "1B72",
         null,
         "DMI\\1B72_min_DMI.pdb",
         "A",
         "B"
        ],
        [
         "3",
         "DMI",
         "1B8Q",
         null,
         "DMI\\1B8Q_min_DMI.pdb",
         "A",
         "B"
        ],
        [
         "4",
         "DMI",
         "1BXX",
         null,
         "DMI\\1BXX_min_DMI.pdb",
         "A",
         "B"
        ],
        [
         "5",
         "DMI",
         "1C9I",
         null,
         "DMI\\1C9I_min_DMI.pdb",
         "A",
         "B"
        ],
        [
         "6",
         "DMI",
         "1CA9",
         null,
         "DMI\\1CA9_min_DMI.pdb",
         "A",
         "B"
        ],
        [
         "7",
         "DMI",
         "1CKA",
         null,
         "DMI\\1CKA_min_DMI.pdb",
         "A",
         "B"
        ],
        [
         "8",
         "DMI",
         "1CZY",
         null,
         "DMI\\1CZY_min_DMI.pdb",
         "A",
         "B"
        ],
        [
         "9",
         "DMI",
         "1D5G",
         null,
         "DMI\\1D5G_min_DMI.pdb",
         "A",
         "B"
        ],
        [
         "10",
         "DMI",
         "1DDV",
         null,
         "DMI\\1DDV_min_DMI.pdb",
         "A",
         "B"
        ],
        [
         "11",
         "DMI",
         "1DPU",
         null,
         "DMI\\1DPU_min_DMI.pdb",
         "A",
         "B"
        ],
        [
         "12",
         "DMI",
         "1EG4",
         null,
         "DMI\\1EG4_min_DMI.pdb",
         "A",
         "B"
        ],
        [
         "13",
         "DMI",
         "1ELR",
         null,
         "DMI\\1ELR_min_DMI.pdb",
         "A",
         "B"
        ],
        [
         "14",
         "DMI",
         "1EVH",
         null,
         "DMI\\1EVH_min_DMI.pdb",
         "A",
         "B"
        ],
        [
         "15",
         "DMI",
         "1F95",
         null,
         "DMI\\1F95_min_DMI.pdb",
         "A",
         "B"
        ],
        [
         "16",
         "DMI",
         "1FF1",
         null,
         "DMI\\1FF1_min_DMI.pdb",
         "A",
         "B"
        ],
        [
         "17",
         "DMI",
         "1GH6",
         null,
         "DMI\\1GH6_min_DMI.pdb",
         "A",
         "B"
        ],
        [
         "18",
         "DMI",
         "1GO4",
         null,
         "DMI\\1GO4_min_DMI.pdb",
         "A",
         "B"
        ],
        [
         "19",
         "DMI",
         "1GWQ",
         null,
         "DMI\\1GWQ_min_DMI.pdb",
         "A",
         "B"
        ],
        [
         "20",
         "DMI",
         "1H25",
         null,
         "DMI\\1H25_min_DMI.pdb",
         "A",
         "B"
        ],
        [
         "21",
         "DMI",
         "1JD5",
         null,
         "DMI\\1JD5_min_DMI.pdb",
         "A",
         "B"
        ],
        [
         "22",
         "DMI",
         "1JGN",
         null,
         "DMI\\1JGN_min_DMI.pdb",
         "A",
         "B"
        ],
        [
         "23",
         "DMI",
         "1JWG",
         null,
         "DMI\\1JWG_min_DMI.pdb",
         "A",
         "B"
        ],
        [
         "24",
         "DMI",
         "1KKQ",
         null,
         "DMI\\1KKQ_min_DMI.pdb",
         "A",
         "B"
        ],
        [
         "25",
         "DMI",
         "1KPS",
         null,
         "DMI\\1KPS_min_DMI.pdb",
         "A",
         "B"
        ],
        [
         "26",
         "DMI",
         "1KY7",
         null,
         "DMI\\1KY7_min_DMI.pdb",
         "A",
         "B"
        ],
        [
         "27",
         "DMI",
         "1KYU",
         null,
         "DMI\\1KYU_min_DMI.pdb",
         "A",
         "B"
        ],
        [
         "28",
         "DMI",
         "1L2Z",
         null,
         "DMI\\1L2Z_min_DMI.pdb",
         "A",
         "B"
        ],
        [
         "29",
         "DMI",
         "1M4P",
         null,
         "DMI\\1M4P_min_DMI.pdb",
         "A",
         "B"
        ],
        [
         "30",
         "DMI",
         "1MFG",
         null,
         "DMI\\1MFG_min_DMI.pdb",
         "A",
         "B"
        ],
        [
         "31",
         "DMI",
         "1MKE",
         null,
         "DMI\\1MKE_min_DMI.pdb",
         "A",
         "B"
        ],
        [
         "32",
         "DMI",
         "1N4M",
         null,
         "DMI\\1N4M_min_DMI.pdb",
         "A",
         "B"
        ],
        [
         "33",
         "DMI",
         "1NTV",
         null,
         "DMI\\1NTV_min_DMI.pdb",
         "A",
         "B"
        ],
        [
         "34",
         "DMI",
         "1NW9",
         null,
         "DMI\\1NW9_min_DMI.pdb",
         "A",
         "B"
        ],
        [
         "35",
         "DMI",
         "1O0P",
         null,
         "DMI\\1O0P_min_DMI.pdb",
         "A",
         "B"
        ],
        [
         "36",
         "DMI",
         "1O6K",
         null,
         "DMI\\1O6K_min_DMI.pdb",
         "A",
         "B"
        ],
        [
         "37",
         "DMI",
         "1O9U",
         null,
         "DMI\\1O9U_min_DMI.pdb",
         "A",
         "B"
        ],
        [
         "38",
         "DMI",
         "1PD7",
         null,
         "DMI\\1PD7_min_DMI.pdb",
         "A",
         "B"
        ],
        [
         "39",
         "DMI",
         "1PJM",
         null,
         "DMI\\1PJM_min_DMI.pdb",
         "A",
         "B"
        ],
        [
         "40",
         "DMI",
         "1S70",
         null,
         "DMI\\1S70_min_DMI.pdb",
         "A",
         "B"
        ],
        [
         "41",
         "DMI",
         "1SXJ",
         null,
         "DMI\\1SXJ_min_DMI.pdb",
         "A",
         "B"
        ],
        [
         "42",
         "DMI",
         "1SYQ",
         null,
         "DMI\\1SYQ_min_DMI.pdb",
         "A",
         "B"
        ],
        [
         "43",
         "DMI",
         "1UTC",
         null,
         "DMI\\1UTC_min_DMI.pdb",
         "A",
         "B"
        ],
        [
         "44",
         "DMI",
         "1YCR",
         null,
         "DMI\\1YCR_min_DMI.pdb",
         "A",
         "B"
        ],
        [
         "45",
         "DMI",
         "1YY6",
         null,
         "DMI\\1YY6_min_DMI.pdb",
         "A",
         "B"
        ],
        [
         "46",
         "DMI",
         "1ZUB",
         null,
         "DMI\\1ZUB_min_DMI.pdb",
         "A",
         "B"
        ],
        [
         "47",
         "DMI",
         "2A25",
         null,
         "DMI\\2A25_min_DMI.pdb",
         "A",
         "B"
        ],
        [
         "48",
         "DMI",
         "2A41",
         null,
         "DMI\\2A41_min_DMI.pdb",
         "A",
         "B"
        ],
        [
         "49",
         "DMI",
         "2ASQ",
         null,
         "DMI\\2ASQ_min_DMI.pdb",
         "A",
         "B"
        ]
       ],
       "shape": {
        "columns": 6,
        "rows": 188
       }
      },
      "text/html": [
       "<div>\n",
       "<style scoped>\n",
       "    .dataframe tbody tr th:only-of-type {\n",
       "        vertical-align: middle;\n",
       "    }\n",
       "\n",
       "    .dataframe tbody tr th {\n",
       "        vertical-align: top;\n",
       "    }\n",
       "\n",
       "    .dataframe thead th {\n",
       "        text-align: right;\n",
       "    }\n",
       "</style>\n",
       "<table border=\"1\" class=\"dataframe\">\n",
       "  <thead>\n",
       "    <tr style=\"text-align: right;\">\n",
       "      <th></th>\n",
       "      <th>set</th>\n",
       "      <th>PDB_id</th>\n",
       "      <th>DDI_pfam_id</th>\n",
       "      <th>path</th>\n",
       "      <th>chainA_id</th>\n",
       "      <th>chainB_id</th>\n",
       "    </tr>\n",
       "  </thead>\n",
       "  <tbody>\n",
       "    <tr>\n",
       "      <th>0</th>\n",
       "      <td>DMI</td>\n",
       "      <td>1ATP</td>\n",
       "      <td>NaN</td>\n",
       "      <td>DMI\\1ATP_min_DMI.pdb</td>\n",
       "      <td>A</td>\n",
       "      <td>B</td>\n",
       "    </tr>\n",
       "    <tr>\n",
       "      <th>1</th>\n",
       "      <td>DMI</td>\n",
       "      <td>1AXC</td>\n",
       "      <td>NaN</td>\n",
       "      <td>DMI\\1AXC_min_DMI.pdb</td>\n",
       "      <td>A</td>\n",
       "      <td>B</td>\n",
       "    </tr>\n",
       "    <tr>\n",
       "      <th>2</th>\n",
       "      <td>DMI</td>\n",
       "      <td>1B72</td>\n",
       "      <td>NaN</td>\n",
       "      <td>DMI\\1B72_min_DMI.pdb</td>\n",
       "      <td>A</td>\n",
       "      <td>B</td>\n",
       "    </tr>\n",
       "    <tr>\n",
       "      <th>3</th>\n",
       "      <td>DMI</td>\n",
       "      <td>1B8Q</td>\n",
       "      <td>NaN</td>\n",
       "      <td>DMI\\1B8Q_min_DMI.pdb</td>\n",
       "      <td>A</td>\n",
       "      <td>B</td>\n",
       "    </tr>\n",
       "    <tr>\n",
       "      <th>4</th>\n",
       "      <td>DMI</td>\n",
       "      <td>1BXX</td>\n",
       "      <td>NaN</td>\n",
       "      <td>DMI\\1BXX_min_DMI.pdb</td>\n",
       "      <td>A</td>\n",
       "      <td>B</td>\n",
       "    </tr>\n",
       "    <tr>\n",
       "      <th>...</th>\n",
       "      <td>...</td>\n",
       "      <td>...</td>\n",
       "      <td>...</td>\n",
       "      <td>...</td>\n",
       "      <td>...</td>\n",
       "      <td>...</td>\n",
       "    </tr>\n",
       "    <tr>\n",
       "      <th>183</th>\n",
       "      <td>DDI</td>\n",
       "      <td>3ZNI</td>\n",
       "      <td>PF14447_PF00179</td>\n",
       "      <td>DDI\\PF14447_PF00179_3ZNI_AC.pdb</td>\n",
       "      <td>A</td>\n",
       "      <td>C</td>\n",
       "    </tr>\n",
       "    <tr>\n",
       "      <th>184</th>\n",
       "      <td>DDI</td>\n",
       "      <td>3J7Y</td>\n",
       "      <td>PF14978_PF00327</td>\n",
       "      <td>DDI\\PF14978_PF00327_3J7Y_oZ.pdb</td>\n",
       "      <td>o</td>\n",
       "      <td>Z</td>\n",
       "    </tr>\n",
       "    <tr>\n",
       "      <th>185</th>\n",
       "      <td>DDI</td>\n",
       "      <td>6D6Q</td>\n",
       "      <td>PF15985_PF10175</td>\n",
       "      <td>DDI\\PF15985_PF10175_6D6Q_GL.pdb</td>\n",
       "      <td>G</td>\n",
       "      <td>L</td>\n",
       "    </tr>\n",
       "    <tr>\n",
       "      <th>186</th>\n",
       "      <td>DDI</td>\n",
       "      <td>3KZ1</td>\n",
       "      <td>PF17838_PF00071</td>\n",
       "      <td>DDI\\PF17838_PF00071_3KZ1_BE.pdb</td>\n",
       "      <td>B</td>\n",
       "      <td>E</td>\n",
       "    </tr>\n",
       "    <tr>\n",
       "      <th>187</th>\n",
       "      <td>DDI</td>\n",
       "      <td>2X19</td>\n",
       "      <td>PF18773_PF00071</td>\n",
       "      <td>DDI\\PF18773_PF00071_2X19_BA.pdb</td>\n",
       "      <td>B</td>\n",
       "      <td>A</td>\n",
       "    </tr>\n",
       "  </tbody>\n",
       "</table>\n",
       "<p>188 rows × 6 columns</p>\n",
       "</div>"
      ],
      "text/plain": [
       "     set PDB_id      DDI_pfam_id                             path chainA_id  \\\n",
       "0    DMI   1ATP              NaN             DMI\\1ATP_min_DMI.pdb         A   \n",
       "1    DMI   1AXC              NaN             DMI\\1AXC_min_DMI.pdb         A   \n",
       "2    DMI   1B72              NaN             DMI\\1B72_min_DMI.pdb         A   \n",
       "3    DMI   1B8Q              NaN             DMI\\1B8Q_min_DMI.pdb         A   \n",
       "4    DMI   1BXX              NaN             DMI\\1BXX_min_DMI.pdb         A   \n",
       "..   ...    ...              ...                              ...       ...   \n",
       "183  DDI   3ZNI  PF14447_PF00179  DDI\\PF14447_PF00179_3ZNI_AC.pdb         A   \n",
       "184  DDI   3J7Y  PF14978_PF00327  DDI\\PF14978_PF00327_3J7Y_oZ.pdb         o   \n",
       "185  DDI   6D6Q  PF15985_PF10175  DDI\\PF15985_PF10175_6D6Q_GL.pdb         G   \n",
       "186  DDI   3KZ1  PF17838_PF00071  DDI\\PF17838_PF00071_3KZ1_BE.pdb         B   \n",
       "187  DDI   2X19  PF18773_PF00071  DDI\\PF18773_PF00071_2X19_BA.pdb         B   \n",
       "\n",
       "    chainB_id  \n",
       "0           B  \n",
       "1           B  \n",
       "2           B  \n",
       "3           B  \n",
       "4           B  \n",
       "..        ...  \n",
       "183         C  \n",
       "184         Z  \n",
       "185         L  \n",
       "186         E  \n",
       "187         A  \n",
       "\n",
       "[188 rows x 6 columns]"
      ]
     },
     "metadata": {},
     "output_type": "display_data"
    }
   ],
   "source": [
    "# Read in solved structure data\n",
    "\n",
    "dataSolved = pd.DataFrame(columns=[\"set\", \"PDB_id\", \"DDI_pfam_id\", \"path\", \"chainA_id\", \"chainB_id\"])\n",
    "\n",
    "# DMI\n",
    "for structure_file in [p for p in Path(path_solved / \"DMI\").iterdir() if p.is_file() and p.suffix == \".pdb\"]:\n",
    "    pdb_id = structure_file.name.split(\"_\")[0]\n",
    "    dataSolved.loc[len(dataSolved)] = {\"set\" : \"DMI\", \"PDB_id\": pdb_id, \"path\": structure_file.relative_to(path_solved), \"chainA_id\": \"A\", \"chainB_id\": \"B\"}\n",
    "\n",
    "# DDI\n",
    "for structure_file in [p for p in Path(path_solved / \"DDI\").iterdir() if p.is_file() and p.suffix == \".pdb\"]:\n",
    "    ddi_pfam_id = \"_\".join(structure_file.name.split(\"_\")[0:2])\n",
    "    pdb_id = structure_file.name.split(\"_\")[2]\n",
    "    chainA_id = structure_file.name.split(\"_\")[3][0]\n",
    "    chainB_id = structure_file.name.split(\"_\")[3][1]\n",
    "    dataSolved.loc[len(dataSolved)] = {\"set\" : \"DDI\", \"PDB_id\": pdb_id, \"DDI_pfam_id\": ddi_pfam_id, \"path\": structure_file.relative_to(path_solved), \"chainA_id\": chainA_id, \"chainB_id\": chainB_id}\n",
    "\n",
    "display(dataSolved)"
   ]
  },
  {
   "cell_type": "code",
   "execution_count": null,
   "id": "8d985cd5",
   "metadata": {},
   "outputs": [
    {
     "name": "stdout",
     "output_type": "stream",
     "text": [
      "D:\\Eigene Datein\\Programmieren\\Git\\abrilka\\bachelorthesis\\src\n",
      "[2025-04-22 17:32:29,438 | measure_PPI | INFO] Started Taskpool of 12 processes for 188 files\n",
      "[2025-04-22 17:32:34,441 | measure_PPI | INFO] 46% - ETA 0:00:05 | current speed 17.591 s⁻¹ | average speed 17.391 s⁻¹\n",
      "[2025-04-22 17:32:39,521 | measure_PPI | INFO] 80% - ETA 0:00:02 | current speed 12.596 s⁻¹ | average speed 14.975 s⁻¹\n",
      "[2025-04-22 17:32:44,550 | measure_PPI | INFO] 91% - ETA 0:00:01 | current speed 4.176 s⁻¹ | average speed 11.382 s⁻¹\n",
      "[2025-04-22 17:32:50,978 | measure_PPI | INFO] 98% - ETA 0:00:00 | current speed 2.022 s⁻¹ | average speed 8.588 s⁻¹\n",
      "[2025-04-22 17:33:07,630 | measure_PPI | INFO] 99% - ETA 0:00:00 | current speed 0.12 s⁻¹ | average speed 4.896 s⁻¹\n",
      "[2025-04-22 17:33:07,681 | measure_PPI | INFO] Finished processing 188 objects in 0:00:38 | average speed 4.916 s⁻¹\n"
     ]
    }
   ],
   "source": [
    "import sys\n",
    "libpath = Path(\"../src\").resolve()\n",
    "print(libpath)\n",
    "sys.path.insert(0, str(libpath))\n",
    "import measure_PPI\n",
    "pathObj = []\n",
    "\n",
    "for i, row in dataSolved.iterrows():\n",
    "    structure_path: Path = path_resources / \"solved\" / row[\"path\"]\n",
    "    if not structure_path.exists():\n",
    "        print(f\"\\t{bcolors.FAIL}{structure_path.name} does not exist.{bcolors.ENDC} Skip interface metrics\")\n",
    "        continue\n",
    "    pathObj.append((structure_path.resolve(), row[\"path\"].stem))\n",
    "df_intf_metrics = measure_PPI.Run(pathObj=pathObj, num_threads=12)"
   ]
  },
  {
   "cell_type": "code",
   "execution_count": null,
   "id": "4a5ac152",
   "metadata": {},
   "outputs": [],
   "source": [
    "dataSolved[\"min_distance\"] = None\n",
    "dataSolved[\"buried_area\"] = None\n",
    "dataSolved[\"salt_bridges\"] = None\n",
    "dataSolved[\"hbonds\"] = None\n",
    "dataSolved[\"hydrophobic_interactions\"] = None\n",
    "\n",
    "for i, row in dataSolved.iterrows():\n",
    "    prediction_name = row[\"path\"].stem\n",
    "    if len(row_intf_m := df_intf_metrics[df_intf_metrics[\"structure_name\"] == prediction_name]) != 1:\n",
    "        print(f\"Failed to locate the experimental structure for {prediction_name}\")\n",
    "        continue\n",
    "\n",
    "    dataSolved.at[i, \"min_distance\"] = row_intf_m[\"min_distance\"].item()\n",
    "    dataSolved.at[i, \"buried_area\"] = row_intf_m[\"buried_area\"].item()\n",
    "    dataSolved.at[i, \"salt_bridges\"] = row_intf_m[\"salt_bridges\"].item()\n",
    "    dataSolved.at[i, \"hbonds\"] = row_intf_m[\"hbonds\"].item()\n",
    "    dataSolved.at[i, \"hydrophobic_interactions\"] = row_intf_m[\"hydrophobic_interactions\"].item()"
   ]
  },
  {
   "cell_type": "code",
   "execution_count": null,
   "id": "8e88cf48",
   "metadata": {},
   "outputs": [],
   "source": [
    "dataSolved.to_csv(path_solved / \"solved_metrics.tsv\", index=None, sep=\"\\t\")\n",
    "dataSolved.to_excel(path_solved / \"solved_metrics.xlsx\", sheet_name=\"solved metrics\", index=None)"
   ]
  }
 ],
 "metadata": {
  "kernelspec": {
   "display_name": "bachelor01",
   "language": "python",
   "name": "python3"
  },
  "language_info": {
   "name": "python",
   "version": "3.12.3"
  }
 },
 "nbformat": 4,
 "nbformat_minor": 5
}
