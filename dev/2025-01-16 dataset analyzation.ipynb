{
 "cells": [
  {
   "cell_type": "markdown",
   "metadata": {},
   "source": [
    "## Dataset analyzation\n",
    "Created: 2025-01-16\n",
    "Received the complete AF predictions set as well as the complete solved structure dataset. This needs to be parsed again and data needs to be inspected"
   ]
  },
  {
   "cell_type": "code",
   "execution_count": 1,
   "metadata": {},
   "outputs": [],
   "source": [
    "import pandas as pd\n",
    "import numpy as np\n",
    "import matplotlib.pyplot as plt\n",
    "from pathlib import Path\n",
    "import sys\n",
    "import numpy as np\n",
    "import time"
   ]
  },
  {
   "cell_type": "code",
   "execution_count": 5,
   "metadata": {},
   "outputs": [],
   "source": [
    "AF_prediction_results = Path(\"../ressources/AF_predictions/AF_prediction_randomized_DMI_results.xlsx\").resolve()\n",
    "AF_prediction_metrics = Path(\"../ressources/AF_predictions/AF_metrics_all_structures.tsv\").resolve()\n",
    "AF_structures_folders = [Path(\"../ressources/AF_DMI_structures\").resolve() / p for p in ['AF_DMI_structures1', 'AF_DMI_structures2', 'AF_DMI_structures3', \"AF_DMI_mutated_structures\"]]\n",
    "solved_structures_path = Path(\"../ressources/DMI_solved_structures\").resolve()\n",
    "solvedHydrogen_structures_path = Path(\"../ressources/DMI_solved_structures hydrogens\").resolve()\n",
    "\n",
    "for p in [AF_prediction_results, AF_prediction_metrics, solved_structures_path, solvedHydrogen_structures_path] + AF_structures_folders:\n",
    "    if not p.exists():\n",
    "        print(f\"{p} does not point to a valid path\")"
   ]
  },
  {
   "cell_type": "code",
   "execution_count": 6,
   "metadata": {},
   "outputs": [
    {
     "name": "stdout",
     "output_type": "stream",
     "text": [
      "D:\\Eigene Datein\\Programmieren\\Git\\abrilka\\bachelorthesis\\src\n"
     ]
    }
   ],
   "source": [
    "libpath = Path(\"../src\").resolve()\n",
    "print(libpath)\n",
    "sys.path.insert(0, str(libpath))\n",
    "import measure_PPI"
   ]
  },
  {
   "cell_type": "markdown",
   "metadata": {},
   "source": [
    "### Visulize dataset"
   ]
  },
  {
   "cell_type": "code",
   "execution_count": null,
   "metadata": {},
   "outputs": [],
   "source": [
    "measureAF = pd.read_csv(Path(\"../ressources//af_structures.csv\"))\n",
    "measureSolved = pd.read_csv(Path(\"../ressources//solved_structures.csv\"))\n",
    "predictionAF = pd.read_excel(Path(\"../ressources/ISS AF_DMI_structures/AF_prediction_randomized_DMI_results.xlsx\"))\n",
    "\n",
    "predictionAF[\"model_id\"] = predictionAF[\"model_id\"] + \".pdb\"\n",
    "\n",
    "dataAF = pd.merge(\n",
    "    left=measureAF, \n",
    "    right=predictionAF,\n",
    "    how='inner',\n",
    "    left_on=['structure_name', 'file'],\n",
    "    right_on=['prediction_name', 'model_id'],\n",
    ")"
   ]
  },
  {
   "cell_type": "code",
   "execution_count": null,
   "metadata": {},
   "outputs": [
    {
     "name": "stdout",
     "output_type": "stream",
     "text": [
      "Found 400 structures\n",
      "Found 525 structures\n",
      "Found 445 structures\n",
      "Found 1340 structures\n",
      "[2025-01-17 10:43:01,909 | measure_PPI | INFO] Started Taskpool of 12 processes for 2710 files\n",
      "[2025-01-17 10:43:07,008 | measure_PPI | INFO] 2% - ETA 0:03:06 | current speed 14.354 s⁻¹ | average speed 14.155 s⁻¹\n",
      "[2025-01-17 10:43:12,333 | measure_PPI | INFO] 6% - ETA 0:02:23 | current speed 20.84 s⁻¹ | average speed 17.597 s⁻¹\n",
      "[2025-01-17 10:43:17,414 | measure_PPI | INFO] 13% - ETA 0:01:41 | current speed 34.835 s⁻¹ | average speed 23.276 s⁻¹\n",
      "[2025-01-17 10:43:22,443 | measure_PPI | INFO] 19% - ETA 0:01:22 | current speed 35.203 s⁻¹ | average speed 26.209 s⁻¹\n",
      "[2025-01-17 10:43:27,476 | measure_PPI | INFO] 26% - ETA 0:01:09 | current speed 38.539 s⁻¹ | average speed 28.644 s⁻¹\n",
      "[2025-01-17 10:43:32,621 | measure_PPI | INFO] 32% - ETA 0:01:04 | current speed 28.184 s⁻¹ | average speed 28.567 s⁻¹\n",
      "[2025-01-17 10:43:37,647 | measure_PPI | INFO] 39% - ETA 0:00:55 | current speed 36.612 s⁻¹ | average speed 29.701 s⁻¹\n",
      "[2025-01-17 10:43:42,725 | measure_PPI | INFO] 43% - ETA 0:00:53 | current speed 22.252 s⁻¹ | average speed 28.772 s⁻¹\n",
      "[2025-01-17 10:43:47,778 | measure_PPI | INFO] 50% - ETA 0:00:45 | current speed 36.212 s⁻¹ | average speed 29.593 s⁻¹\n",
      "[2025-01-17 10:43:52,785 | measure_PPI | INFO] 54% - ETA 0:00:43 | current speed 21.773 s⁻¹ | average speed 28.823 s⁻¹\n",
      "[2025-01-17 10:43:57,829 | measure_PPI | INFO] 57% - ETA 0:00:40 | current speed 21.011 s⁻¹ | average speed 28.117 s⁻¹\n",
      "[2025-01-17 10:44:02,871 | measure_PPI | INFO] 62% - ETA 0:00:36 | current speed 24.597 s⁻¹ | average speed 27.825 s⁻¹\n",
      "[2025-01-17 10:44:07,894 | measure_PPI | INFO] 68% - ETA 0:00:30 | current speed 30.658 s⁻¹ | average speed 28.041 s⁻¹\n",
      "[2025-01-17 10:44:12,976 | measure_PPI | INFO] 74% - ETA 0:00:24 | current speed 32.077 s⁻¹ | average speed 28.33 s⁻¹\n",
      "[2025-01-17 10:44:18,037 | measure_PPI | INFO] 79% - ETA 0:00:19 | current speed 26.669 s⁻¹ | average speed 28.22 s⁻¹\n",
      "[2025-01-17 10:44:23,047 | measure_PPI | INFO] 85% - ETA 0:00:14 | current speed 32.338 s⁻¹ | average speed 28.474 s⁻¹\n",
      "[2025-01-17 10:44:28,052 | measure_PPI | INFO] 93% - ETA 0:00:06 | current speed 43.959 s⁻¹ | average speed 29.375 s⁻¹\n",
      "[2025-01-17 10:44:33,089 | measure_PPI | INFO] 98% - ETA 0:00:01 | current speed 30.175 s⁻¹ | average speed 29.419 s⁻¹\n",
      "[2025-01-17 10:44:34,411 | measure_PPI | INFO] Finished processing 2710 objects in 0:01:32\n"
     ]
    }
   ],
   "source": [
    "pathObj = {}\n",
    "\n",
    "for path in AF_structures_folders:\n",
    "    measure_PPI.WalkFolder(path, pathObj)\n",
    "\n",
    "measurement_AF = measure_PPI.Run(list(pathObj.values()))"
   ]
  },
  {
   "cell_type": "code",
   "execution_count": null,
   "metadata": {},
   "outputs": [],
   "source": []
  },
  {
   "cell_type": "code",
   "execution_count": 14,
   "metadata": {},
   "outputs": [],
   "source": [
    "measurement.to_csv(Path(\"../ressources/af_structures.csv\"), index=False)"
   ]
  }
 ],
 "metadata": {
  "kernelspec": {
   "display_name": "bachelor01",
   "language": "python",
   "name": "python3"
  },
  "language_info": {
   "codemirror_mode": {
    "name": "ipython",
    "version": 3
   },
   "file_extension": ".py",
   "mimetype": "text/x-python",
   "name": "python",
   "nbconvert_exporter": "python",
   "pygments_lexer": "ipython3",
   "version": "3.12.3"
  }
 },
 "nbformat": 4,
 "nbformat_minor": 2
}
