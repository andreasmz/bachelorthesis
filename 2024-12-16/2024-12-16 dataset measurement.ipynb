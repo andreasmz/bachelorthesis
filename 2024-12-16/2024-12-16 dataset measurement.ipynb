{
 "cells": [
  {
   "cell_type": "markdown",
   "metadata": {},
   "source": [
    "### Measure structures\n",
    "Modified code from ISS\n",
    "created 2024-12-16"
   ]
  },
  {
   "cell_type": "code",
   "execution_count": 1,
   "metadata": {},
   "outputs": [],
   "source": [
    "import pathlib\n",
    "import dataset_measure\n",
    "\n",
    "structure_basePath = pathlib.Path(\"../ressources/ISS AF_DMI_structures\").absolute()\n",
    "structure_folders = [structure_basePath / p for p in ['AF_DMI_structures1', 'AF_DMI_structures2', 'AF_DMI_structures3']]\n",
    "solved_basePath = pathlib.Path(\"../ressources/ISS DMI_solved_structures\").absolute()\n",
    "solvedHydrogen_basePath = pathlib.Path(\"../ressources/ISS DMI_solved_structures hydrogens\").absolute()\n",
    "\n",
    "pathObj = {}"
   ]
  },
  {
   "cell_type": "code",
   "execution_count": 2,
   "metadata": {},
   "outputs": [],
   "source": [
    "def WalkFolder(basePath: str, \n",
    "               pathObj:dict[str, dict[str, pathlib.Path]]={},\n",
    "               structures: None|str|list[str] = None,\n",
    "               files: None|bool|str|list[str] = None\n",
    "               ) -> dict[str, dict[str, pathlib.Path]]:\n",
    "    \"\"\"\n",
    "        Add the path basePath/structure/file.pdb to the pathObj provided (or create a new one if omitted).\n",
    "        If files and/or structures are None, search inside the directory for all pdb files.\n",
    "        Returns:\n",
    "            pathObj: dict[name:str, tuple[path: pathlib.Path, structure_name: str]]\n",
    "    \"\"\"\n",
    "\n",
    "    structures_count = 0\n",
    "    basePath = pathlib.Path(basePath).absolute()\n",
    "    if not basePath.is_dir():\n",
    "        raise ValueError(\"The given basePath is not a valid directory\")\n",
    "    \n",
    "    if structures is None:\n",
    "        structures: list[pathlib.Path] = [p for p in basePath.iterdir()]\n",
    "    elif isinstance(structures, str):\n",
    "        structures: list[pathlib.Path] = [basePath / structures]\n",
    "    elif isinstance(structures, list):\n",
    "        structures: list[pathlib.Path] = [basePath / p for p in structures]\n",
    "    else:\n",
    "        raise ValueError(\"Invalid argument for structures\")\n",
    "\n",
    "    for structure in structures:\n",
    "        if not structure.exists():\n",
    "            raise ValueError(f\"The structure {structure} does not point to a valid path\")\n",
    "        structure_name = str(structure.stem)\n",
    "        if structure.is_file() and structure.suffix.lower() == \".pdb\":\n",
    "            if structure_name in pathObj.keys():\n",
    "                raise ValueError(f\"Duplicate structure and file {structure}\")\n",
    "            pathObj[structure_name] = (structure.absolute(), structure_name)\n",
    "            structures_count += 1\n",
    "            continue\n",
    "\n",
    "        if files is None:\n",
    "            filesF: list[pathlib.Path] = [f for f in structure.iterdir() if f.is_file()]\n",
    "        elif isinstance(files, str):\n",
    "            filesF: list[pathlib.Path] = [structure / f\"{files}.pdb\"]\n",
    "        elif isinstance(files, list):\n",
    "            filesF: list[pathlib.Path] = [structure / f\"{f}.pdb\" for f in files]\n",
    "        else:\n",
    "            raise ValueError(\"Invalid argument for files\")\n",
    "        \n",
    "        for file in filesF:\n",
    "            if not file.exists() or not file.is_file():\n",
    "                raise ValueError(f\"{structure}/{file} does not point to a valid file\")\n",
    "            if not file.suffix.lower() == \".pdb\":\n",
    "                continue\n",
    "            file_name = file.stem\n",
    "            name = f\"{structure_name}-{file_name}\"\n",
    "            if name in pathObj.keys():\n",
    "                raise ValueError(f\"Duplicate structure and file {structure}/{file_name}.pdb\")\n",
    "            pathObj[name] = (file.absolute(), structure_name)\n",
    "            structures_count += 1\n",
    "    print(f\"Found {structures_count} structures\")\n",
    "    return pathObj"
   ]
  },
  {
   "cell_type": "code",
   "execution_count": 3,
   "metadata": {},
   "outputs": [
    {
     "name": "stdout",
     "output_type": "stream",
     "text": [
      "Found 138 structures\n",
      "{'1ATP_min_DMI': (WindowsPath('d:/Eigene Datein/Programmieren/Git/abrilka/bachelorthesis/2024-12-16/../ressources/ISS DMI_solved_structures hydrogens/1ATP_min_DMI.pdb'), '1ATP_min_DMI'), '1AXC_min_DMI': (WindowsPath('d:/Eigene Datein/Programmieren/Git/abrilka/bachelorthesis/2024-12-16/../ressources/ISS DMI_solved_structures hydrogens/1AXC_min_DMI.pdb'), '1AXC_min_DMI'), '1B72_min_DMI': (WindowsPath('d:/Eigene Datein/Programmieren/Git/abrilka/bachelorthesis/2024-12-16/../ressources/ISS DMI_solved_structures hydrogens/1B72_min_DMI.pdb'), '1B72_min_DMI'), '1B8Q_min_DMI': (WindowsPath('d:/Eigene Datein/Programmieren/Git/abrilka/bachelorthesis/2024-12-16/../ressources/ISS DMI_solved_structures hydrogens/1B8Q_min_DMI.pdb'), '1B8Q_min_DMI'), '1BXX_min_DMI': (WindowsPath('d:/Eigene Datein/Programmieren/Git/abrilka/bachelorthesis/2024-12-16/../ressources/ISS DMI_solved_structures hydrogens/1BXX_min_DMI.pdb'), '1BXX_min_DMI'), '1C9I_min_DMI': (WindowsPath('d:/Eigene Datein/Programmieren/Git/abrilka/bachelorthesis/2024-12-16/../ressources/ISS DMI_solved_structures hydrogens/1C9I_min_DMI.pdb'), '1C9I_min_DMI'), '1CA9_min_DMI': (WindowsPath('d:/Eigene Datein/Programmieren/Git/abrilka/bachelorthesis/2024-12-16/../ressources/ISS DMI_solved_structures hydrogens/1CA9_min_DMI.pdb'), '1CA9_min_DMI'), '1CKA_min_DMI': (WindowsPath('d:/Eigene Datein/Programmieren/Git/abrilka/bachelorthesis/2024-12-16/../ressources/ISS DMI_solved_structures hydrogens/1CKA_min_DMI.pdb'), '1CKA_min_DMI'), '1CZY_min_DMI': (WindowsPath('d:/Eigene Datein/Programmieren/Git/abrilka/bachelorthesis/2024-12-16/../ressources/ISS DMI_solved_structures hydrogens/1CZY_min_DMI.pdb'), '1CZY_min_DMI'), '1D5G_min_DMI': (WindowsPath('d:/Eigene Datein/Programmieren/Git/abrilka/bachelorthesis/2024-12-16/../ressources/ISS DMI_solved_structures hydrogens/1D5G_min_DMI.pdb'), '1D5G_min_DMI'), '1DDV_min_DMI': (WindowsPath('d:/Eigene Datein/Programmieren/Git/abrilka/bachelorthesis/2024-12-16/../ressources/ISS DMI_solved_structures hydrogens/1DDV_min_DMI.pdb'), '1DDV_min_DMI'), '1DPU_min_DMI': (WindowsPath('d:/Eigene Datein/Programmieren/Git/abrilka/bachelorthesis/2024-12-16/../ressources/ISS DMI_solved_structures hydrogens/1DPU_min_DMI.pdb'), '1DPU_min_DMI'), '1EG4_min_DMI': (WindowsPath('d:/Eigene Datein/Programmieren/Git/abrilka/bachelorthesis/2024-12-16/../ressources/ISS DMI_solved_structures hydrogens/1EG4_min_DMI.pdb'), '1EG4_min_DMI'), '1ELR_min_DMI': (WindowsPath('d:/Eigene Datein/Programmieren/Git/abrilka/bachelorthesis/2024-12-16/../ressources/ISS DMI_solved_structures hydrogens/1ELR_min_DMI.pdb'), '1ELR_min_DMI'), '1EVH_min_DMI': (WindowsPath('d:/Eigene Datein/Programmieren/Git/abrilka/bachelorthesis/2024-12-16/../ressources/ISS DMI_solved_structures hydrogens/1EVH_min_DMI.pdb'), '1EVH_min_DMI'), '1F95_min_DMI': (WindowsPath('d:/Eigene Datein/Programmieren/Git/abrilka/bachelorthesis/2024-12-16/../ressources/ISS DMI_solved_structures hydrogens/1F95_min_DMI.pdb'), '1F95_min_DMI'), '1FF1_min_DMI': (WindowsPath('d:/Eigene Datein/Programmieren/Git/abrilka/bachelorthesis/2024-12-16/../ressources/ISS DMI_solved_structures hydrogens/1FF1_min_DMI.pdb'), '1FF1_min_DMI'), '1GH6_min_DMI': (WindowsPath('d:/Eigene Datein/Programmieren/Git/abrilka/bachelorthesis/2024-12-16/../ressources/ISS DMI_solved_structures hydrogens/1GH6_min_DMI.pdb'), '1GH6_min_DMI'), '1GO4_min_DMI': (WindowsPath('d:/Eigene Datein/Programmieren/Git/abrilka/bachelorthesis/2024-12-16/../ressources/ISS DMI_solved_structures hydrogens/1GO4_min_DMI.pdb'), '1GO4_min_DMI'), '1GWQ_min_DMI': (WindowsPath('d:/Eigene Datein/Programmieren/Git/abrilka/bachelorthesis/2024-12-16/../ressources/ISS DMI_solved_structures hydrogens/1GWQ_min_DMI.pdb'), '1GWQ_min_DMI'), '1H25_min_DMI': (WindowsPath('d:/Eigene Datein/Programmieren/Git/abrilka/bachelorthesis/2024-12-16/../ressources/ISS DMI_solved_structures hydrogens/1H25_min_DMI.pdb'), '1H25_min_DMI'), '1JD5_min_DMI': (WindowsPath('d:/Eigene Datein/Programmieren/Git/abrilka/bachelorthesis/2024-12-16/../ressources/ISS DMI_solved_structures hydrogens/1JD5_min_DMI.pdb'), '1JD5_min_DMI'), '1JGN_min_DMI': (WindowsPath('d:/Eigene Datein/Programmieren/Git/abrilka/bachelorthesis/2024-12-16/../ressources/ISS DMI_solved_structures hydrogens/1JGN_min_DMI.pdb'), '1JGN_min_DMI'), '1JWG_min_DMI': (WindowsPath('d:/Eigene Datein/Programmieren/Git/abrilka/bachelorthesis/2024-12-16/../ressources/ISS DMI_solved_structures hydrogens/1JWG_min_DMI.pdb'), '1JWG_min_DMI'), '1KKQ_min_DMI': (WindowsPath('d:/Eigene Datein/Programmieren/Git/abrilka/bachelorthesis/2024-12-16/../ressources/ISS DMI_solved_structures hydrogens/1KKQ_min_DMI.pdb'), '1KKQ_min_DMI'), '1KPS_min_DMI': (WindowsPath('d:/Eigene Datein/Programmieren/Git/abrilka/bachelorthesis/2024-12-16/../ressources/ISS DMI_solved_structures hydrogens/1KPS_min_DMI.pdb'), '1KPS_min_DMI'), '1KY7_min_DMI': (WindowsPath('d:/Eigene Datein/Programmieren/Git/abrilka/bachelorthesis/2024-12-16/../ressources/ISS DMI_solved_structures hydrogens/1KY7_min_DMI.pdb'), '1KY7_min_DMI'), '1KYU_min_DMI': (WindowsPath('d:/Eigene Datein/Programmieren/Git/abrilka/bachelorthesis/2024-12-16/../ressources/ISS DMI_solved_structures hydrogens/1KYU_min_DMI.pdb'), '1KYU_min_DMI'), '1L2Z_min_DMI': (WindowsPath('d:/Eigene Datein/Programmieren/Git/abrilka/bachelorthesis/2024-12-16/../ressources/ISS DMI_solved_structures hydrogens/1L2Z_min_DMI.pdb'), '1L2Z_min_DMI'), '1M4P_min_DMI': (WindowsPath('d:/Eigene Datein/Programmieren/Git/abrilka/bachelorthesis/2024-12-16/../ressources/ISS DMI_solved_structures hydrogens/1M4P_min_DMI.pdb'), '1M4P_min_DMI'), '1MFG_min_DMI': (WindowsPath('d:/Eigene Datein/Programmieren/Git/abrilka/bachelorthesis/2024-12-16/../ressources/ISS DMI_solved_structures hydrogens/1MFG_min_DMI.pdb'), '1MFG_min_DMI'), '1MKE_min_DMI': (WindowsPath('d:/Eigene Datein/Programmieren/Git/abrilka/bachelorthesis/2024-12-16/../ressources/ISS DMI_solved_structures hydrogens/1MKE_min_DMI.pdb'), '1MKE_min_DMI'), '1N4M_min_DMI': (WindowsPath('d:/Eigene Datein/Programmieren/Git/abrilka/bachelorthesis/2024-12-16/../ressources/ISS DMI_solved_structures hydrogens/1N4M_min_DMI.pdb'), '1N4M_min_DMI'), '1NTV_min_DMI': (WindowsPath('d:/Eigene Datein/Programmieren/Git/abrilka/bachelorthesis/2024-12-16/../ressources/ISS DMI_solved_structures hydrogens/1NTV_min_DMI.pdb'), '1NTV_min_DMI'), '1NW9_min_DMI': (WindowsPath('d:/Eigene Datein/Programmieren/Git/abrilka/bachelorthesis/2024-12-16/../ressources/ISS DMI_solved_structures hydrogens/1NW9_min_DMI.pdb'), '1NW9_min_DMI'), '1O0P_min_DMI': (WindowsPath('d:/Eigene Datein/Programmieren/Git/abrilka/bachelorthesis/2024-12-16/../ressources/ISS DMI_solved_structures hydrogens/1O0P_min_DMI.pdb'), '1O0P_min_DMI'), '1O6K_min_DMI': (WindowsPath('d:/Eigene Datein/Programmieren/Git/abrilka/bachelorthesis/2024-12-16/../ressources/ISS DMI_solved_structures hydrogens/1O6K_min_DMI.pdb'), '1O6K_min_DMI'), '1O9U_min_DMI': (WindowsPath('d:/Eigene Datein/Programmieren/Git/abrilka/bachelorthesis/2024-12-16/../ressources/ISS DMI_solved_structures hydrogens/1O9U_min_DMI.pdb'), '1O9U_min_DMI'), '1PD7_min_DMI': (WindowsPath('d:/Eigene Datein/Programmieren/Git/abrilka/bachelorthesis/2024-12-16/../ressources/ISS DMI_solved_structures hydrogens/1PD7_min_DMI.pdb'), '1PD7_min_DMI'), '1PJM_min_DMI': (WindowsPath('d:/Eigene Datein/Programmieren/Git/abrilka/bachelorthesis/2024-12-16/../ressources/ISS DMI_solved_structures hydrogens/1PJM_min_DMI.pdb'), '1PJM_min_DMI'), '1S70_min_DMI': (WindowsPath('d:/Eigene Datein/Programmieren/Git/abrilka/bachelorthesis/2024-12-16/../ressources/ISS DMI_solved_structures hydrogens/1S70_min_DMI.pdb'), '1S70_min_DMI'), '1SXJ_min_DMI': (WindowsPath('d:/Eigene Datein/Programmieren/Git/abrilka/bachelorthesis/2024-12-16/../ressources/ISS DMI_solved_structures hydrogens/1SXJ_min_DMI.pdb'), '1SXJ_min_DMI'), '1SYQ_min_DMI': (WindowsPath('d:/Eigene Datein/Programmieren/Git/abrilka/bachelorthesis/2024-12-16/../ressources/ISS DMI_solved_structures hydrogens/1SYQ_min_DMI.pdb'), '1SYQ_min_DMI'), '1UTC_min_DMI': (WindowsPath('d:/Eigene Datein/Programmieren/Git/abrilka/bachelorthesis/2024-12-16/../ressources/ISS DMI_solved_structures hydrogens/1UTC_min_DMI.pdb'), '1UTC_min_DMI'), '1YCR_min_DMI': (WindowsPath('d:/Eigene Datein/Programmieren/Git/abrilka/bachelorthesis/2024-12-16/../ressources/ISS DMI_solved_structures hydrogens/1YCR_min_DMI.pdb'), '1YCR_min_DMI'), '1YY6_min_DMI': (WindowsPath('d:/Eigene Datein/Programmieren/Git/abrilka/bachelorthesis/2024-12-16/../ressources/ISS DMI_solved_structures hydrogens/1YY6_min_DMI.pdb'), '1YY6_min_DMI'), '1ZUB_min_DMI': (WindowsPath('d:/Eigene Datein/Programmieren/Git/abrilka/bachelorthesis/2024-12-16/../ressources/ISS DMI_solved_structures hydrogens/1ZUB_min_DMI.pdb'), '1ZUB_min_DMI'), '2A25_min_DMI': (WindowsPath('d:/Eigene Datein/Programmieren/Git/abrilka/bachelorthesis/2024-12-16/../ressources/ISS DMI_solved_structures hydrogens/2A25_min_DMI.pdb'), '2A25_min_DMI'), '2A41_min_DMI': (WindowsPath('d:/Eigene Datein/Programmieren/Git/abrilka/bachelorthesis/2024-12-16/../ressources/ISS DMI_solved_structures hydrogens/2A41_min_DMI.pdb'), '2A41_min_DMI'), '2ASQ_min_DMI': (WindowsPath('d:/Eigene Datein/Programmieren/Git/abrilka/bachelorthesis/2024-12-16/../ressources/ISS DMI_solved_structures hydrogens/2ASQ_min_DMI.pdb'), '2ASQ_min_DMI'), '2B9J_min_DMI': (WindowsPath('d:/Eigene Datein/Programmieren/Git/abrilka/bachelorthesis/2024-12-16/../ressources/ISS DMI_solved_structures hydrogens/2B9J_min_DMI.pdb'), '2B9J_min_DMI'), '2BZ8_min_DMI': (WindowsPath('d:/Eigene Datein/Programmieren/Git/abrilka/bachelorthesis/2024-12-16/../ressources/ISS DMI_solved_structures hydrogens/2BZ8_min_DMI.pdb'), '2BZ8_min_DMI'), '2C0L_min_DMI': (WindowsPath('d:/Eigene Datein/Programmieren/Git/abrilka/bachelorthesis/2024-12-16/../ressources/ISS DMI_solved_structures hydrogens/2C0L_min_DMI.pdb'), '2C0L_min_DMI'), '2CE8_min_DMI': (WindowsPath('d:/Eigene Datein/Programmieren/Git/abrilka/bachelorthesis/2024-12-16/../ressources/ISS DMI_solved_structures hydrogens/2CE8_min_DMI.pdb'), '2CE8_min_DMI'), '2D1K_min_DMI': (WindowsPath('d:/Eigene Datein/Programmieren/Git/abrilka/bachelorthesis/2024-12-16/../ressources/ISS DMI_solved_structures hydrogens/2D1K_min_DMI.pdb'), '2D1K_min_DMI'), '2FLU_min_DMI': (WindowsPath('d:/Eigene Datein/Programmieren/Git/abrilka/bachelorthesis/2024-12-16/../ressources/ISS DMI_solved_structures hydrogens/2FLU_min_DMI.pdb'), '2FLU_min_DMI'), '2G30_min_DMI': (WindowsPath('d:/Eigene Datein/Programmieren/Git/abrilka/bachelorthesis/2024-12-16/../ressources/ISS DMI_solved_structures hydrogens/2G30_min_DMI.pdb'), '2G30_min_DMI'), '2GBQ_min_DMI': (WindowsPath('d:/Eigene Datein/Programmieren/Git/abrilka/bachelorthesis/2024-12-16/../ressources/ISS DMI_solved_structures hydrogens/2GBQ_min_DMI.pdb'), '2GBQ_min_DMI'), '2GPH_min_DMI': (WindowsPath('d:/Eigene Datein/Programmieren/Git/abrilka/bachelorthesis/2024-12-16/../ressources/ISS DMI_solved_structures hydrogens/2GPH_min_DMI.pdb'), '2GPH_min_DMI'), '2I3S_min_DMI': (WindowsPath('d:/Eigene Datein/Programmieren/Git/abrilka/bachelorthesis/2024-12-16/../ressources/ISS DMI_solved_structures hydrogens/2I3S_min_DMI.pdb'), '2I3S_min_DMI'), '2IX7_min_DMI': (WindowsPath('d:/Eigene Datein/Programmieren/Git/abrilka/bachelorthesis/2024-12-16/../ressources/ISS DMI_solved_structures hydrogens/2IX7_min_DMI.pdb'), '2IX7_min_DMI'), '2JK9_min_DMI': (WindowsPath('d:/Eigene Datein/Programmieren/Git/abrilka/bachelorthesis/2024-12-16/../ressources/ISS DMI_solved_structures hydrogens/2JK9_min_DMI.pdb'), '2JK9_min_DMI'), '2JKR_min_DMI': (WindowsPath('d:/Eigene Datein/Programmieren/Git/abrilka/bachelorthesis/2024-12-16/../ressources/ISS DMI_solved_structures hydrogens/2JKR_min_DMI.pdb'), '2JKR_min_DMI'), '2JQ9_min_DMI': (WindowsPath('d:/Eigene Datein/Programmieren/Git/abrilka/bachelorthesis/2024-12-16/../ressources/ISS DMI_solved_structures hydrogens/2JQ9_min_DMI.pdb'), '2JQ9_min_DMI'), '2K42_min_DMI': (WindowsPath('d:/Eigene Datein/Programmieren/Git/abrilka/bachelorthesis/2024-12-16/../ressources/ISS DMI_solved_structures hydrogens/2K42_min_DMI.pdb'), '2K42_min_DMI'), '2KQS_min_DMI': (WindowsPath('d:/Eigene Datein/Programmieren/Git/abrilka/bachelorthesis/2024-12-16/../ressources/ISS DMI_solved_structures hydrogens/2KQS_min_DMI.pdb'), '2KQS_min_DMI'), '2KXH_min_DMI': (WindowsPath('d:/Eigene Datein/Programmieren/Git/abrilka/bachelorthesis/2024-12-16/../ressources/ISS DMI_solved_structures hydrogens/2KXH_min_DMI.pdb'), '2KXH_min_DMI'), '2L8J_min_DMI': (WindowsPath('d:/Eigene Datein/Programmieren/Git/abrilka/bachelorthesis/2024-12-16/../ressources/ISS DMI_solved_structures hydrogens/2L8J_min_DMI.pdb'), '2L8J_min_DMI'), '2LSI_min_DMI': (WindowsPath('d:/Eigene Datein/Programmieren/Git/abrilka/bachelorthesis/2024-12-16/../ressources/ISS DMI_solved_structures hydrogens/2LSI_min_DMI.pdb'), '2LSI_min_DMI'), '2MOW_min_DMI': (WindowsPath('d:/Eigene Datein/Programmieren/Git/abrilka/bachelorthesis/2024-12-16/../ressources/ISS DMI_solved_structures hydrogens/2MOW_min_DMI.pdb'), '2MOW_min_DMI'), '2O8G_min_DMI': (WindowsPath('d:/Eigene Datein/Programmieren/Git/abrilka/bachelorthesis/2024-12-16/../ressources/ISS DMI_solved_structures hydrogens/2O8G_min_DMI.pdb'), '2O8G_min_DMI'), '2ODD_min_DMI': (WindowsPath('d:/Eigene Datein/Programmieren/Git/abrilka/bachelorthesis/2024-12-16/../ressources/ISS DMI_solved_structures hydrogens/2ODD_min_DMI.pdb'), '2ODD_min_DMI'), '2ORZ_min_DMI': (WindowsPath('d:/Eigene Datein/Programmieren/Git/abrilka/bachelorthesis/2024-12-16/../ressources/ISS DMI_solved_structures hydrogens/2ORZ_min_DMI.pdb'), '2ORZ_min_DMI'), '2P1Q_min_DMI': (WindowsPath('d:/Eigene Datein/Programmieren/Git/abrilka/bachelorthesis/2024-12-16/../ressources/ISS DMI_solved_structures hydrogens/2P1Q_min_DMI.pdb'), '2P1Q_min_DMI'), '2PZO_min_DMI': (WindowsPath('d:/Eigene Datein/Programmieren/Git/abrilka/bachelorthesis/2024-12-16/../ressources/ISS DMI_solved_structures hydrogens/2PZO_min_DMI.pdb'), '2PZO_min_DMI'), '2R02_min_DMI': (WindowsPath('d:/Eigene Datein/Programmieren/Git/abrilka/bachelorthesis/2024-12-16/../ressources/ISS DMI_solved_structures hydrogens/2R02_min_DMI.pdb'), '2R02_min_DMI'), '2R03_min_DMI': (WindowsPath('d:/Eigene Datein/Programmieren/Git/abrilka/bachelorthesis/2024-12-16/../ressources/ISS DMI_solved_structures hydrogens/2R03_min_DMI.pdb'), '2R03_min_DMI'), '2ROC_min_DMI': (WindowsPath('d:/Eigene Datein/Programmieren/Git/abrilka/bachelorthesis/2024-12-16/../ressources/ISS DMI_solved_structures hydrogens/2ROC_min_DMI.pdb'), '2ROC_min_DMI'), '2RR3_min_DMI': (WindowsPath('d:/Eigene Datein/Programmieren/Git/abrilka/bachelorthesis/2024-12-16/../ressources/ISS DMI_solved_structures hydrogens/2RR3_min_DMI.pdb'), '2RR3_min_DMI'), '2V3S_min_DMI': (WindowsPath('d:/Eigene Datein/Programmieren/Git/abrilka/bachelorthesis/2024-12-16/../ressources/ISS DMI_solved_structures hydrogens/2V3S_min_DMI.pdb'), '2V3S_min_DMI'), '2V52_min_DMI': (WindowsPath('d:/Eigene Datein/Programmieren/Git/abrilka/bachelorthesis/2024-12-16/../ressources/ISS DMI_solved_structures hydrogens/2V52_min_DMI.pdb'), '2V52_min_DMI'), '2V8C_min_DMI': (WindowsPath('d:/Eigene Datein/Programmieren/Git/abrilka/bachelorthesis/2024-12-16/../ressources/ISS DMI_solved_structures hydrogens/2V8C_min_DMI.pdb'), '2V8C_min_DMI'), '2W84_min_DMI': (WindowsPath('d:/Eigene Datein/Programmieren/Git/abrilka/bachelorthesis/2024-12-16/../ressources/ISS DMI_solved_structures hydrogens/2W84_min_DMI.pdb'), '2W84_min_DMI'), '2X04_min_DMI': (WindowsPath('d:/Eigene Datein/Programmieren/Git/abrilka/bachelorthesis/2024-12-16/../ressources/ISS DMI_solved_structures hydrogens/2X04_min_DMI.pdb'), '2X04_min_DMI'), '2XS0_min_DMI': (WindowsPath('d:/Eigene Datein/Programmieren/Git/abrilka/bachelorthesis/2024-12-16/../ressources/ISS DMI_solved_structures hydrogens/2XS0_min_DMI.pdb'), '2XS0_min_DMI'), '2XS1_min_DMI': (WindowsPath('d:/Eigene Datein/Programmieren/Git/abrilka/bachelorthesis/2024-12-16/../ressources/ISS DMI_solved_structures hydrogens/2XS1_min_DMI.pdb'), '2XS1_min_DMI'), '2Y48_min_DMI': (WindowsPath('d:/Eigene Datein/Programmieren/Git/abrilka/bachelorthesis/2024-12-16/../ressources/ISS DMI_solved_structures hydrogens/2Y48_min_DMI.pdb'), '2Y48_min_DMI'), '2YKT_min_DMI': (WindowsPath('d:/Eigene Datein/Programmieren/Git/abrilka/bachelorthesis/2024-12-16/../ressources/ISS DMI_solved_structures hydrogens/2YKT_min_DMI.pdb'), '2YKT_min_DMI'), '2ZNE_min_DMI': (WindowsPath('d:/Eigene Datein/Programmieren/Git/abrilka/bachelorthesis/2024-12-16/../ressources/ISS DMI_solved_structures hydrogens/2ZNE_min_DMI.pdb'), '2ZNE_min_DMI'), '2ZVL_min_DMI': (WindowsPath('d:/Eigene Datein/Programmieren/Git/abrilka/bachelorthesis/2024-12-16/../ressources/ISS DMI_solved_structures hydrogens/2ZVL_min_DMI.pdb'), '2ZVL_min_DMI'), '3AA1_min_DMI': (WindowsPath('d:/Eigene Datein/Programmieren/Git/abrilka/bachelorthesis/2024-12-16/../ressources/ISS DMI_solved_structures hydrogens/3AA1_min_DMI.pdb'), '3AA1_min_DMI'), '3BQO_min_DMI': (WindowsPath('d:/Eigene Datein/Programmieren/Git/abrilka/bachelorthesis/2024-12-16/../ressources/ISS DMI_solved_structures hydrogens/3BQO_min_DMI.pdb'), '3BQO_min_DMI'), '3EU7_min_DMI': (WindowsPath('d:/Eigene Datein/Programmieren/Git/abrilka/bachelorthesis/2024-12-16/../ressources/ISS DMI_solved_structures hydrogens/3EU7_min_DMI.pdb'), '3EU7_min_DMI'), '3GB8_min_DMI': (WindowsPath('d:/Eigene Datein/Programmieren/Git/abrilka/bachelorthesis/2024-12-16/../ressources/ISS DMI_solved_structures hydrogens/3GB8_min_DMI.pdb'), '3GB8_min_DMI'), '3GM1_min_DMI': (WindowsPath('d:/Eigene Datein/Programmieren/Git/abrilka/bachelorthesis/2024-12-16/../ressources/ISS DMI_solved_structures hydrogens/3GM1_min_DMI.pdb'), '3GM1_min_DMI'), '3HQM_min_DMI': (WindowsPath('d:/Eigene Datein/Programmieren/Git/abrilka/bachelorthesis/2024-12-16/../ressources/ISS DMI_solved_structures hydrogens/3HQM_min_DMI.pdb'), '3HQM_min_DMI'), '3MQS_min_DMI': (WindowsPath('d:/Eigene Datein/Programmieren/Git/abrilka/bachelorthesis/2024-12-16/../ressources/ISS DMI_solved_structures hydrogens/3MQS_min_DMI.pdb'), '3MQS_min_DMI'), '3N5U_min_DMI': (WindowsPath('d:/Eigene Datein/Programmieren/Git/abrilka/bachelorthesis/2024-12-16/../ressources/ISS DMI_solved_structures hydrogens/3N5U_min_DMI.pdb'), '3N5U_min_DMI'), '3OGL_min_DMI': (WindowsPath('d:/Eigene Datein/Programmieren/Git/abrilka/bachelorthesis/2024-12-16/../ressources/ISS DMI_solved_structures hydrogens/3OGL_min_DMI.pdb'), '3OGL_min_DMI'), '3QIS_min_DMI': (WindowsPath('d:/Eigene Datein/Programmieren/Git/abrilka/bachelorthesis/2024-12-16/../ressources/ISS DMI_solved_structures hydrogens/3QIS_min_DMI.pdb'), '3QIS_min_DMI'), '3RDV_min_DMI': (WindowsPath('d:/Eigene Datein/Programmieren/Git/abrilka/bachelorthesis/2024-12-16/../ressources/ISS DMI_solved_structures hydrogens/3RDV_min_DMI.pdb'), '3RDV_min_DMI'), '3SOQ_min_DMI': (WindowsPath('d:/Eigene Datein/Programmieren/Git/abrilka/bachelorthesis/2024-12-16/../ressources/ISS DMI_solved_structures hydrogens/3SOQ_min_DMI.pdb'), '3SOQ_min_DMI'), '3TEI_min_DMI': (WindowsPath('d:/Eigene Datein/Programmieren/Git/abrilka/bachelorthesis/2024-12-16/../ressources/ISS DMI_solved_structures hydrogens/3TEI_min_DMI.pdb'), '3TEI_min_DMI'), '3TWU_min_DMI': (WindowsPath('d:/Eigene Datein/Programmieren/Git/abrilka/bachelorthesis/2024-12-16/../ressources/ISS DMI_solved_structures hydrogens/3TWU_min_DMI.pdb'), '3TWU_min_DMI'), '3UVK_min_DMI': (WindowsPath('d:/Eigene Datein/Programmieren/Git/abrilka/bachelorthesis/2024-12-16/../ressources/ISS DMI_solved_structures hydrogens/3UVK_min_DMI.pdb'), '3UVK_min_DMI'), '3UXG_min_DMI': (WindowsPath('d:/Eigene Datein/Programmieren/Git/abrilka/bachelorthesis/2024-12-16/../ressources/ISS DMI_solved_structures hydrogens/3UXG_min_DMI.pdb'), '3UXG_min_DMI'), '3VVW_min_DMI': (WindowsPath('d:/Eigene Datein/Programmieren/Git/abrilka/bachelorthesis/2024-12-16/../ressources/ISS DMI_solved_structures hydrogens/3VVW_min_DMI.pdb'), '3VVW_min_DMI'), '3WN7_min_DMI': (WindowsPath('d:/Eigene Datein/Programmieren/Git/abrilka/bachelorthesis/2024-12-16/../ressources/ISS DMI_solved_structures hydrogens/3WN7_min_DMI.pdb'), '3WN7_min_DMI'), '3WP0_min_DMI': (WindowsPath('d:/Eigene Datein/Programmieren/Git/abrilka/bachelorthesis/2024-12-16/../ressources/ISS DMI_solved_structures hydrogens/3WP0_min_DMI.pdb'), '3WP0_min_DMI'), '3ZFW_min_DMI': (WindowsPath('d:/Eigene Datein/Programmieren/Git/abrilka/bachelorthesis/2024-12-16/../ressources/ISS DMI_solved_structures hydrogens/3ZFW_min_DMI.pdb'), '3ZFW_min_DMI'), '4BH6_min_DMI': (WindowsPath('d:/Eigene Datein/Programmieren/Git/abrilka/bachelorthesis/2024-12-16/../ressources/ISS DMI_solved_structures hydrogens/4BH6_min_DMI.pdb'), '4BH6_min_DMI'), '4BXU_min_DMI': (WindowsPath('d:/Eigene Datein/Programmieren/Git/abrilka/bachelorthesis/2024-12-16/../ressources/ISS DMI_solved_structures hydrogens/4BXU_min_DMI.pdb'), '4BXU_min_DMI'), '4CQO_min_DMI': (WindowsPath('d:/Eigene Datein/Programmieren/Git/abrilka/bachelorthesis/2024-12-16/../ressources/ISS DMI_solved_structures hydrogens/4CQO_min_DMI.pdb'), '4CQO_min_DMI'), '4CY2_min_DMI': (WindowsPath('d:/Eigene Datein/Programmieren/Git/abrilka/bachelorthesis/2024-12-16/../ressources/ISS DMI_solved_structures hydrogens/4CY2_min_DMI.pdb'), '4CY2_min_DMI'), '4CY3_min_DMI': (WindowsPath('d:/Eigene Datein/Programmieren/Git/abrilka/bachelorthesis/2024-12-16/../ressources/ISS DMI_solved_structures hydrogens/4CY3_min_DMI.pdb'), '4CY3_min_DMI'), '4EOY_min_DMI': (WindowsPath('d:/Eigene Datein/Programmieren/Git/abrilka/bachelorthesis/2024-12-16/../ressources/ISS DMI_solved_structures hydrogens/4EOY_min_DMI.pdb'), '4EOY_min_DMI'), '4F0Z_min_DMI': (WindowsPath('d:/Eigene Datein/Programmieren/Git/abrilka/bachelorthesis/2024-12-16/../ressources/ISS DMI_solved_structures hydrogens/4F0Z_min_DMI.pdb'), '4F0Z_min_DMI'), '4FMO_min_DMI': (WindowsPath('d:/Eigene Datein/Programmieren/Git/abrilka/bachelorthesis/2024-12-16/../ressources/ISS DMI_solved_structures hydrogens/4FMO_min_DMI.pdb'), '4FMO_min_DMI'), '4GGD_min_DMI': (WindowsPath('d:/Eigene Datein/Programmieren/Git/abrilka/bachelorthesis/2024-12-16/../ressources/ISS DMI_solved_structures hydrogens/4GGD_min_DMI.pdb'), '4GGD_min_DMI'), '4H3B_min_DMI': (WindowsPath('d:/Eigene Datein/Programmieren/Git/abrilka/bachelorthesis/2024-12-16/../ressources/ISS DMI_solved_structures hydrogens/4H3B_min_DMI.pdb'), '4H3B_min_DMI'), '4H3Q_min_DMI': (WindowsPath('d:/Eigene Datein/Programmieren/Git/abrilka/bachelorthesis/2024-12-16/../ressources/ISS DMI_solved_structures hydrogens/4H3Q_min_DMI.pdb'), '4H3Q_min_DMI'), '4J2X_min_DMI': (WindowsPath('d:/Eigene Datein/Programmieren/Git/abrilka/bachelorthesis/2024-12-16/../ressources/ISS DMI_solved_structures hydrogens/4J2X_min_DMI.pdb'), '4J2X_min_DMI'), '4KMD_min_DMI': (WindowsPath('d:/Eigene Datein/Programmieren/Git/abrilka/bachelorthesis/2024-12-16/../ressources/ISS DMI_solved_structures hydrogens/4KMD_min_DMI.pdb'), '4KMD_min_DMI'), '4NEE_min_DMI': (WindowsPath('d:/Eigene Datein/Programmieren/Git/abrilka/bachelorthesis/2024-12-16/../ressources/ISS DMI_solved_structures hydrogens/4NEE_min_DMI.pdb'), '4NEE_min_DMI'), '4YOC_min_DMI': (WindowsPath('d:/Eigene Datein/Programmieren/Git/abrilka/bachelorthesis/2024-12-16/../ressources/ISS DMI_solved_structures hydrogens/4YOC_min_DMI.pdb'), '4YOC_min_DMI'), '4ZI2_min_DMI': (WindowsPath('d:/Eigene Datein/Programmieren/Git/abrilka/bachelorthesis/2024-12-16/../ressources/ISS DMI_solved_structures hydrogens/4ZI2_min_DMI.pdb'), '4ZI2_min_DMI'), '5AZG_min_DMI': (WindowsPath('d:/Eigene Datein/Programmieren/Git/abrilka/bachelorthesis/2024-12-16/../ressources/ISS DMI_solved_structures hydrogens/5AZG_min_DMI.pdb'), '5AZG_min_DMI'), '5EOD_min_DMI': (WindowsPath('d:/Eigene Datein/Programmieren/Git/abrilka/bachelorthesis/2024-12-16/../ressources/ISS DMI_solved_structures hydrogens/5EOD_min_DMI.pdb'), '5EOD_min_DMI'), '5ETA_min_DMI': (WindowsPath('d:/Eigene Datein/Programmieren/Git/abrilka/bachelorthesis/2024-12-16/../ressources/ISS DMI_solved_structures hydrogens/5ETA_min_DMI.pdb'), '5ETA_min_DMI'), '5F74_min_DMI': (WindowsPath('d:/Eigene Datein/Programmieren/Git/abrilka/bachelorthesis/2024-12-16/../ressources/ISS DMI_solved_structures hydrogens/5F74_min_DMI.pdb'), '5F74_min_DMI'), '5FJX_min_DMI': (WindowsPath('d:/Eigene Datein/Programmieren/Git/abrilka/bachelorthesis/2024-12-16/../ressources/ISS DMI_solved_structures hydrogens/5FJX_min_DMI.pdb'), '5FJX_min_DMI'), '5HKH_min_DMI': (WindowsPath('d:/Eigene Datein/Programmieren/Git/abrilka/bachelorthesis/2024-12-16/../ressources/ISS DMI_solved_structures hydrogens/5HKH_min_DMI.pdb'), '5HKH_min_DMI'), '5IGO_min_DMI': (WindowsPath('d:/Eigene Datein/Programmieren/Git/abrilka/bachelorthesis/2024-12-16/../ressources/ISS DMI_solved_structures hydrogens/5IGO_min_DMI.pdb'), '5IGO_min_DMI'), '5MLW_min_DMI': (WindowsPath('d:/Eigene Datein/Programmieren/Git/abrilka/bachelorthesis/2024-12-16/../ressources/ISS DMI_solved_structures hydrogens/5MLW_min_DMI.pdb'), '5MLW_min_DMI'), '5VZU_min_DMI': (WindowsPath('d:/Eigene Datein/Programmieren/Git/abrilka/bachelorthesis/2024-12-16/../ressources/ISS DMI_solved_structures hydrogens/5VZU_min_DMI.pdb'), '5VZU_min_DMI'), '6FUZ_min_DMI': (WindowsPath('d:/Eigene Datein/Programmieren/Git/abrilka/bachelorthesis/2024-12-16/../ressources/ISS DMI_solved_structures hydrogens/6FUZ_min_DMI.pdb'), '6FUZ_min_DMI'), '6G84_min_DMI': (WindowsPath('d:/Eigene Datein/Programmieren/Git/abrilka/bachelorthesis/2024-12-16/../ressources/ISS DMI_solved_structures hydrogens/6G84_min_DMI.pdb'), '6G84_min_DMI'), '7DS2_min_DMI': (WindowsPath('d:/Eigene Datein/Programmieren/Git/abrilka/bachelorthesis/2024-12-16/../ressources/ISS DMI_solved_structures hydrogens/7DS2_min_DMI.pdb'), '7DS2_min_DMI')}\n"
     ]
    }
   ],
   "source": [
    "pathObj = {}\n",
    "WalkFolder(solvedHydrogen_basePath, pathObj)\n",
    "print(pathObj)"
   ]
  },
  {
   "cell_type": "code",
   "execution_count": null,
   "metadata": {},
   "outputs": [],
   "source": [
    "result = dataset_measure.Run(list(pathObj.values()), silent=False)\n",
    "print(result)"
   ]
  },
  {
   "cell_type": "code",
   "execution_count": 6,
   "metadata": {},
   "outputs": [],
   "source": [
    "result.to_csv(pathlib.Path(\"output/solved_structures.csv\"), index=False)"
   ]
  },
  {
   "cell_type": "markdown",
   "metadata": {},
   "source": [
    "#### Validation"
   ]
  },
  {
   "cell_type": "code",
   "execution_count": 3,
   "metadata": {},
   "outputs": [],
   "source": [
    "import pandas as pd\n",
    "import pathlib"
   ]
  },
  {
   "cell_type": "code",
   "execution_count": null,
   "metadata": {},
   "outputs": [],
   "source": [
    "issData = pd.read_csv(pathlib.Path(\"../ISS Code/output/structure_analysis_results_biopython_with_hydrophobic_and_final.csv\"))\n",
    "myData = pd.read_csv(pathlib.Path(\"output/structures_measured.csv\"))\n",
    "print(issData.head())\n",
    "print(myData.head())"
   ]
  },
  {
   "cell_type": "code",
   "execution_count": 25,
   "metadata": {},
   "outputs": [],
   "source": [
    "for x1 in myData.iloc:\n",
    "    prediction_name = x1[\"prediction_name\"]\n",
    "    structure_file = str(x1[\"structure_file\"]) + \".pdb\"\n",
    "    x2 = issData.loc[(issData[\"prediction_name\"] == prediction_name) & (issData[\"structure_file\"] == structure_file)]\n",
    "    if  (x2.empty):\n",
    "        print(prediction_name)\n",
    "    print(x1[\"hbonds\"])"
   ]
  },
  {
   "cell_type": "markdown",
   "metadata": {},
   "source": [
    "### Sample structures"
   ]
  },
  {
   "cell_type": "code",
   "execution_count": null,
   "metadata": {},
   "outputs": [],
   "source": [
    "pathObj = {}\n",
    "dataset_measure.WalkFolder(structure_folders[0], pathObj, \"DEG_Kelch_Keap1_1_2FLU\", \"ranked_3\")\n",
    "paths = dataset_measure.PathObj_ToList(pathObj)\n",
    "structures = []\n",
    "for structure, fileDict in pathObj.items():\n",
    "    for file, path in fileDict.items():\n",
    "        s = dataset_measure.OpenStructure(path)\n",
    "        structures.append((s[0], s[1], structure, file))"
   ]
  },
  {
   "cell_type": "code",
   "execution_count": null,
   "metadata": {},
   "outputs": [],
   "source": [
    "import biotite.structure as struc\n",
    "\n",
    "structure = structures[0][1]\n",
    "print(structure)"
   ]
  },
  {
   "cell_type": "code",
   "execution_count": 11,
   "metadata": {},
   "outputs": [],
   "source": [
    "bonds = struc.bonds.connect_via_distances(structure[0])\n",
    "structure[0].bonds = bonds"
   ]
  },
  {
   "cell_type": "code",
   "execution_count": null,
   "metadata": {},
   "outputs": [],
   "source": [
    "print(structure[0].bonds)\n",
    "print(bonds)"
   ]
  },
  {
   "cell_type": "code",
   "execution_count": null,
   "metadata": {},
   "outputs": [],
   "source": [
    "selection1 = structure[0].chain_id == \"A\"\n",
    "selection2 = structure[0].chain_id == \"B\"\n",
    "\n",
    "triplets = struc.hbond(structure[0], selection1=selection1, selection2=selection2)\n"
   ]
  },
  {
   "cell_type": "markdown",
   "metadata": {},
   "source": [
    "### Adding H to solved structures"
   ]
  },
  {
   "cell_type": "code",
   "execution_count": 1,
   "metadata": {},
   "outputs": [],
   "source": [
    "import biotite.structure.io as biotiteIO\n",
    "import biotite.structure as struc\n",
    "import matplotlib.pyplot as plt\n",
    "import pymol"
   ]
  },
  {
   "cell_type": "code",
   "execution_count": null,
   "metadata": {},
   "outputs": [],
   "source": [
    "structures = {}\n",
    "for path in solved_basePath.iterdir():\n",
    "    if not path.is_file() and path.suffix.lower() == \".pdb\":\n",
    "        continue\n",
    "    structure_name = path.stem\n",
    "    structures[structure_name] = biotiteIO.pdb.get_structure(biotiteIO.pdb.PDBFile.read(path))"
   ]
  },
  {
   "cell_type": "code",
   "execution_count": null,
   "metadata": {},
   "outputs": [],
   "source": [
    "s = structures[list(structures.keys())[0]][0]\n",
    "h = s[(s.element == \"C\")]\n",
    "print(len(h))"
   ]
  },
  {
   "cell_type": "code",
   "execution_count": 46,
   "metadata": {},
   "outputs": [],
   "source": [
    "hydrogens_rel = {}\n",
    "for name, structure in structures.items():\n",
    "    if len(structure) != 1:\n",
    "        raise ValueError(\"Multiple structures\")\n",
    "    s = structure[0]\n",
    "    count = len(s)\n",
    "    h_count = len(s[(s.element == \"H\")])\n",
    "    hydrogens_rel[name] = h_count/count"
   ]
  },
  {
   "cell_type": "code",
   "execution_count": null,
   "metadata": {},
   "outputs": [],
   "source": [
    "dist = [r for name,r in hydrogens_rel.items()]\n",
    "plt.hist(dist, bins=100)\n",
    "plt.show()"
   ]
  },
  {
   "cell_type": "code",
   "execution_count": null,
   "metadata": {},
   "outputs": [],
   "source": [
    "for name, structure in structures.items():\n",
    "    if hydrogens_rel[name] < 0.05:\n",
    "        print(name, hydrogens_rel[name])"
   ]
  },
  {
   "cell_type": "code",
   "execution_count": null,
   "metadata": {},
   "outputs": [],
   "source": [
    "pymol.cmd.load(solved_basePath / \"1ATP_min_DMI.pdb\")"
   ]
  },
  {
   "cell_type": "code",
   "execution_count": null,
   "metadata": {},
   "outputs": [],
   "source": [
    "pymol.cmd.h_add()"
   ]
  },
  {
   "cell_type": "code",
   "execution_count": null,
   "metadata": {},
   "outputs": [],
   "source": [
    "pymol.cmd.save( / \"1ATP_min_DMI.pdb\")"
   ]
  },
  {
   "cell_type": "code",
   "execution_count": null,
   "metadata": {},
   "outputs": [],
   "source": [
    "exportPath = solved_basePath / \"..\" / \"ISS DMI_solved_structures hydrogens\"\n",
    "for path in solved_basePath.iterdir():\n",
    "    if not path.is_file() and path.suffix.lower() == \".pdb\":\n",
    "        continue\n",
    "    print(path.stem)\n",
    "    pymol.cmd.load(path, path.stem)\n",
    "    pymol.cmd.h_add()\n",
    "    pymol.cmd.save(exportPath / path.name)\n",
    "    pymol.cmd.delete(path.stem)"
   ]
  },
  {
   "cell_type": "code",
   "execution_count": 5,
   "metadata": {},
   "outputs": [],
   "source": [
    "structures = {}\n",
    "for path in exportPath.iterdir():\n",
    "    if not path.is_file() and path.suffix.lower() == \".pdb\":\n",
    "        continue\n",
    "    structure_name = path.stem\n",
    "    structures[structure_name] = biotiteIO.pdb.get_structure(biotiteIO.pdb.PDBFile.read(path))"
   ]
  },
  {
   "cell_type": "code",
   "execution_count": 6,
   "metadata": {},
   "outputs": [],
   "source": [
    "hydrogens_rel = {}\n",
    "for name, structure in structures.items():\n",
    "    if len(structure) != 1:\n",
    "        raise ValueError(\"Multiple structures\")\n",
    "    s = structure[0]\n",
    "    count = len(s)\n",
    "    h_count = len(s[(s.element == \"H\")])\n",
    "    hydrogens_rel[name] = h_count/count"
   ]
  },
  {
   "cell_type": "code",
   "execution_count": null,
   "metadata": {},
   "outputs": [],
   "source": [
    "dist = [r for name,r in hydrogens_rel.items()]\n",
    "plt.hist(dist)\n",
    "plt.show()"
   ]
  }
 ],
 "metadata": {
  "kernelspec": {
   "display_name": "bachelor01",
   "language": "python",
   "name": "python3"
  },
  "language_info": {
   "codemirror_mode": {
    "name": "ipython",
    "version": 3
   },
   "file_extension": ".py",
   "mimetype": "text/x-python",
   "name": "python",
   "nbconvert_exporter": "python",
   "pygments_lexer": "ipython3",
   "version": "3.12.3"
  }
 },
 "nbformat": 4,
 "nbformat_minor": 2
}
