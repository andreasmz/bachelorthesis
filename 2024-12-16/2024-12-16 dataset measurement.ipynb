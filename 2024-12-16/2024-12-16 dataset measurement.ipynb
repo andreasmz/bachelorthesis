{
 "cells": [
  {
   "cell_type": "markdown",
   "metadata": {},
   "source": [
    "### Measure of AF predictions\n",
    "Modified code from ISS\n",
    "created 2024-12-16"
   ]
  },
  {
   "cell_type": "code",
   "execution_count": 1,
   "metadata": {},
   "outputs": [],
   "source": [
    "import pathlib\n",
    "import dataset_measure\n",
    "\n",
    "structure_basePath = pathlib.Path('../ressources/ISS AF_DMI_structures')\n",
    "structure_folders = ['AF_DMI_structures1', 'AF_DMI_structures2', 'AF_DMI_structures3']"
   ]
  },
  {
   "cell_type": "code",
   "execution_count": 2,
   "metadata": {},
   "outputs": [
    {
     "name": "stdout",
     "output_type": "stream",
     "text": [
      "Found 15 structures\n",
      "Can't parse structure LIG_LYPXL_SIV_4_2XS1 (file ranked_2) due to the following reason: Empty file.\n",
      "Can't parse structure LIG_LYPXL_SIV_4_2XS1 (file ranked_3) due to the following reason: Empty file.\n",
      "Can't parse structure LIG_LYPXL_SIV_4_2XS1 (file ranked_4) due to the following reason: Empty file.\n",
      "Can't parse structure LIG_LYPXL_SIV_4_2XS1 (file ranked_1)\n"
     ]
    }
   ],
   "source": [
    "pdb_structures_path = dataset_measure.readFolder(structure_basePath, structure_folders)\n",
    "results = dataset_measure.evaluteFolder(pdb_structures_path)"
   ]
  },
  {
   "cell_type": "code",
   "execution_count": 4,
   "metadata": {},
   "outputs": [],
   "source": [
    "results.to_csv(pathlib.Path(\"output/structures_measured.csv\"), index=False)"
   ]
  },
  {
   "cell_type": "markdown",
   "metadata": {},
   "source": [
    "#### Validation"
   ]
  },
  {
   "cell_type": "code",
   "execution_count": 3,
   "metadata": {},
   "outputs": [],
   "source": [
    "import pandas as pd\n",
    "import pathlib"
   ]
  },
  {
   "cell_type": "code",
   "execution_count": 4,
   "metadata": {},
   "outputs": [
    {
     "name": "stdout",
     "output_type": "stream",
     "text": [
      "          prediction_name structure_file  hbonds  salt_bridges  buried_area  \\\n",
      "0  DEG_APCC_KENBOX_2_4GGD   ranked_0.pdb       9             0      688.863   \n",
      "1  DEG_APCC_KENBOX_2_4GGD   ranked_1.pdb       9             0      648.414   \n",
      "2  DEG_APCC_KENBOX_2_4GGD   ranked_2.pdb      10             0      724.694   \n",
      "3  DEG_APCC_KENBOX_2_4GGD   ranked_3.pdb       2             0      450.095   \n",
      "4  DEG_APCC_KENBOX_2_4GGD   ranked_4.pdb       2             0      359.838   \n",
      "\n",
      "   min_distance  hydrophobic_interactions  \n",
      "0      6.063404                         0  \n",
      "1      6.083082                         0  \n",
      "2      6.072073                         3  \n",
      "3      5.417125                         0  \n",
      "4      5.091792                         9  \n",
      "          prediction_name structure_file  hbonds  salt_bridges  buried_area  \\\n",
      "0  DEG_APCC_KENBOX_2_4GGD       ranked_0       9             0      688.863   \n",
      "1  DEG_APCC_KENBOX_2_4GGD       ranked_1       9             0      648.414   \n",
      "2  DEG_APCC_KENBOX_2_4GGD       ranked_2      10             0      724.694   \n",
      "3  DEG_APCC_KENBOX_2_4GGD       ranked_3       2             0      450.095   \n",
      "4  DEG_APCC_KENBOX_2_4GGD       ranked_4       2             0      359.838   \n",
      "\n",
      "   min_distance  hydrophobic_interactions  \n",
      "0      6.063404                         0  \n",
      "1      6.083082                         0  \n",
      "2      6.072073                         3  \n",
      "3      5.417125                         0  \n",
      "4      5.091792                         9  \n"
     ]
    }
   ],
   "source": [
    "issData = pd.read_csv(pathlib.Path(\"../ISS Code/output/structure_analysis_results_biopython_with_hydrophobic_and_final.csv\"))\n",
    "myData = pd.read_csv(pathlib.Path(\"output/structures_measured.csv\"))\n",
    "print(issData.head())\n",
    "print(myData.head())"
   ]
  },
  {
   "cell_type": "code",
   "execution_count": 25,
   "metadata": {},
   "outputs": [],
   "source": [
    "for x1 in myData.iloc:\n",
    "    prediction_name = x1[\"prediction_name\"]\n",
    "    structure_file = str(x1[\"structure_file\"]) + \".pdb\"\n",
    "    x2 = issData.loc[(issData[\"prediction_name\"] == prediction_name) & (issData[\"structure_file\"] == structure_file)]\n",
    "    if  (x2.empty):\n",
    "        print(prediction_name)\n",
    "    print(x1[\"hbonds\"])"
   ]
  }
 ],
 "metadata": {
  "kernelspec": {
   "display_name": "bachelor01",
   "language": "python",
   "name": "python3"
  },
  "language_info": {
   "codemirror_mode": {
    "name": "ipython",
    "version": 3
   },
   "file_extension": ".py",
   "mimetype": "text/x-python",
   "name": "python",
   "nbconvert_exporter": "python",
   "pygments_lexer": "ipython3",
   "version": "3.12.3"
  }
 },
 "nbformat": 4,
 "nbformat_minor": 2
}
