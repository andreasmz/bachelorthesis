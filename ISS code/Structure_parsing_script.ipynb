{
 "cells": [
  {
   "cell_type": "code",
   "execution_count": 2,
   "metadata": {},
   "outputs": [],
   "source": [
    "## Read in a structure file - intended to be used for AlphaFold-Multimer output - and calculate structural features of the interface between two chains\n",
    "# Created by: Joelle Strom\n",
    "# Last updated: 16.08.2024\n",
    "\n",
    "import os\n",
    "from pymol import cmd\n",
    "from get_raw_distances import get_raw_distances"
   ]
  },
  {
   "cell_type": "code",
   "execution_count": 3,
   "metadata": {},
   "outputs": [],
   "source": [
    "def find_h_bonds():\n",
    "\n",
    "    \"\"\" Use PyMol find polar contacts functionality to return integer number of H-bonds between chains within the interface \"\"\"\n",
    "    \n",
    "    # Create two selections: one containing interface residues on chain 1 and the other containing residues on chain 2\n",
    "    cmd.select(selection=f\"br. {name} and chain {chains[0]} within 5A of {name} and chain {chains[1]}\", name='sel1')\n",
    "    cmd.select(selection=f\"br. {name} and chain {chains[1]} within 5A of {name} and chain {chains[0]}\", name=\"sel2\")\n",
    "    # Call PyMol distance function in 'find polar contacts' mode, restricting calculation to contacts between the two selections\n",
    "    cmd.distance(\"h_bonds\", \"sel1\", \"sel2\", mode=\"2\")\n",
    "    dists = get_raw_distances(\"h_bonds\")\n",
    "\n",
    "    return len(dists) # This is the number of H-bonds found by the distance function\n"
   ]
  },
  {
   "cell_type": "code",
   "execution_count": 4,
   "metadata": {},
   "outputs": [],
   "source": [
    "def find_salt_bridges():\n",
    "\n",
    "    \"\"\" Use PyMol distance function and selection of charged functional groups to return integer number of salt bridges within the interface\"\"\"\n",
    "\n",
    "    # Create two selections: one for negatively charged residues, the other for positively charged residues\n",
    "    cmd.select(selection=\"(resn ASP+Glu and name OD*+OE*)\", name=\"negative\")\n",
    "    cmd.select(selection=\"(resn Lys and name NZ) or (resn arg and name NE+NH*)\", name=\"positive\")\n",
    "    # Call PyMol distance function (in normal mode this time) twice\n",
    "    # First call finds salt bridges between positive residues on chain 1 and negative residues on chain 2\n",
    "    # Second call finds salt bridges between negative residues on chain 2 and positive residues on chain 1\n",
    "    cmd.distance(\"saltbridge1\", \"positive and chain %s\" % chains[0], \"negative and chain %s\" % chains[1], cutoff=\"4\", mode=\"0\")\n",
    "    cmd.distance(\"saltbridge2\", \"negative and chain %s\" % chains[0], \"positive and chain %s\" % chains[1], cutoff=\"4\", mode=\"0\")\n",
    "    dists = get_raw_distances(\"saltbridge1 saltbridge2\")\n",
    "\n",
    "    return len(dists) # This is the total number of salt bridges found by the two distance functions"
   ]
  },
  {
   "cell_type": "code",
   "execution_count": 5,
   "metadata": {},
   "outputs": [],
   "source": [
    "def calculate_buried_area():\n",
    "    \n",
    "    \"\"\" Use PyMol Get_area function to find the buried surface area of the interface\"\"\"\n",
    "\n",
    "    # Create two selections, one for the entirety of chain 1, the other for the entirety of chain 2\n",
    "    cmd.select(selection=f\"{name} and chain {chains[0]}\", name=\"chain1\")\n",
    "    cmd.select(selection=f\"{name} and chain {chains[1]}\", name=\"chain2\")\n",
    "    cmd.set('dot_solvent', 1)\n",
    "    cmd.set('dot_density', 3)\n",
    "    # Find SASA of chain 1, chain 2, and the entire multimer\n",
    "    area_ch1 = cmd.get_area(selection=\"chain1\")\n",
    "    area_ch2 = cmd.get_area(selection=\"chain2\")\n",
    "    area_all = cmd.get_area()\n",
    "\n",
    "    return round((area_ch1 + area_ch2 - area_all), 3) # This is the calculated buried surface area based on the three values found above"
   ]
  },
  {
   "cell_type": "code",
   "execution_count": 6,
   "metadata": {},
   "outputs": [
    {
     "name": "stdout",
     "output_type": "stream",
     "text": [
      "Number of H-bonds in interface:  10 \n",
      "Number of salt bridges in interface:  0 \n",
      "Amount of buried surface area:  0.206\n"
     ]
    }
   ],
   "source": [
    "### EXAMPLE TO ITERATE OVER MULTIPLE STRUCTURE FILES, ASSUMING A CERTAIN FOLDER STRUCTURE ###\n",
    "### Assumption is that there is one parent folder, which contains subfolders for each unique value of 'prediction_name' in the data table, each of which subfolder contains the 5 AlphaFold predictions for that prediction name ###\n",
    "\n",
    "### CHANGE FILEPATH ###\n",
    "datapath = \"<filepath to parent folder for all structures>\"\n",
    "\n",
    "# Iterate over subfolders\n",
    "for folder in os.listdir(datapath):\n",
    "    if os.path.isdir(os.path.join(filepath,folder)):\n",
    "        namepath = os.path.join(filepath,folder)\n",
    "        # Iterate over structure files in subfolders\n",
    "        for file in os.listdir(namepath):\n",
    "            filepath = os.path.join(namepath,file)\n",
    "            name = file.split('.')[0]\n",
    "\n",
    "            # Load structure file using PyMol API and get chain names for use in above functions\n",
    "            cmd.load(filepath, name)\n",
    "            chains = cmd.get_chains(name)\n",
    "            # Call above functions\n",
    "            hbonds = find_h_bonds()\n",
    "            saltBridges = find_salt_bridges()\n",
    "            buriedSASA = calculate_buried_area()\n",
    "            # Reinitialize the PyMol session - important to add this step, otherwise structures will accumulate in a single session as the loop iterates\n",
    "            cmd.reinitialize()\n",
    "\n",
    "            # Example output of all 3 functions\n",
    "            print('Number of H-bonds in interface: ', hbonds, '\\nNumber of salt bridges in interface: ', saltBridges, '\\nAmount of buried surface area: ', buriedSASA)\n",
    "            ### THIS LAST LINE SHOULD BE CHANGED TO SOMETHING THAT WILL SAVE VALUES TO APPEND TO DATA TABLE ###"
   ]
  }
 ],
 "metadata": {
  "kernelspec": {
   "display_name": "biopython",
   "language": "python",
   "name": "python3"
  },
  "language_info": {
   "codemirror_mode": {
    "name": "ipython",
    "version": 3
   },
   "file_extension": ".py",
   "mimetype": "text/x-python",
   "name": "python",
   "nbconvert_exporter": "python",
   "pygments_lexer": "ipython3",
   "version": "3.10.13"
  }
 },
 "nbformat": 4,
 "nbformat_minor": 2
}
